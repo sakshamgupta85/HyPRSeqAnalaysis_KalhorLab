{
 "cells": [
  {
   "cell_type": "code",
   "execution_count": 100,
   "id": "11756e16",
   "metadata": {},
   "outputs": [
    {
     "name": "stdout",
     "output_type": "stream",
     "text": [
      "Requirement already satisfied: plotly==5.6.0 in /opt/miniconda3/lib/python3.9/site-packages (5.6.0)\n",
      "Requirement already satisfied: six in /opt/miniconda3/lib/python3.9/site-packages (from plotly==5.6.0) (1.16.0)\n",
      "Requirement already satisfied: tenacity>=6.2.0 in /opt/miniconda3/lib/python3.9/site-packages (from plotly==5.6.0) (8.0.1)\n",
      "Requirement already satisfied: pandas in /opt/miniconda3/lib/python3.9/site-packages (1.4.1)\n",
      "Requirement already satisfied: python-dateutil>=2.8.1 in /opt/miniconda3/lib/python3.9/site-packages (from pandas) (2.8.2)\n",
      "Requirement already satisfied: pytz>=2020.1 in /opt/miniconda3/lib/python3.9/site-packages (from pandas) (2021.3)\n",
      "Requirement already satisfied: numpy>=1.18.5 in /opt/miniconda3/lib/python3.9/site-packages (from pandas) (1.21.5)\n",
      "Requirement already satisfied: six>=1.5 in /opt/miniconda3/lib/python3.9/site-packages (from python-dateutil>=2.8.1->pandas) (1.16.0)\n",
      "Requirement already satisfied: scikit-learn in /opt/miniconda3/lib/python3.9/site-packages (1.0.2)\n",
      "Requirement already satisfied: joblib>=0.11 in /opt/miniconda3/lib/python3.9/site-packages (from scikit-learn) (1.1.0)\n",
      "Requirement already satisfied: threadpoolctl>=2.0.0 in /opt/miniconda3/lib/python3.9/site-packages (from scikit-learn) (3.1.0)\n",
      "Requirement already satisfied: numpy>=1.14.6 in /opt/miniconda3/lib/python3.9/site-packages (from scikit-learn) (1.21.5)\n",
      "Requirement already satisfied: scipy>=1.1.0 in /opt/miniconda3/lib/python3.9/site-packages (from scikit-learn) (1.8.0)\n"
     ]
    }
   ],
   "source": [
    "!pip install plotly==5.6.0\n",
    "!pip install pandas \n",
    "!pip install -U scikit-learn"
   ]
  },
  {
   "cell_type": "code",
   "execution_count": 101,
   "id": "a8cf3379",
   "metadata": {},
   "outputs": [],
   "source": [
    "import pandas as pd\n",
    "import glob\n",
    "import csv\n",
    "import os\n",
    "from functools import reduce\n",
    "import plotly.express as px\n",
    "from sklearn.decomposition import PCA"
   ]
  },
  {
   "cell_type": "code",
   "execution_count": 162,
   "id": "e5516808",
   "metadata": {},
   "outputs": [
    {
     "name": "stderr",
     "output_type": "stream",
     "text": [
      "/var/folders/_1/v77zt5js6k783_zdyv8b691h0000gn/T/ipykernel_1186/215673675.py:37: FutureWarning:\n",
      "\n",
      "Passing 'suffixes' which cause duplicate columns {'Count_x'} in the result is deprecated and will raise a MergeError in a future version.\n",
      "\n",
      "/var/folders/_1/v77zt5js6k783_zdyv8b691h0000gn/T/ipykernel_1186/215673675.py:37: FutureWarning:\n",
      "\n",
      "Passing 'suffixes' which cause duplicate columns {'Count_x'} in the result is deprecated and will raise a MergeError in a future version.\n",
      "\n",
      "/var/folders/_1/v77zt5js6k783_zdyv8b691h0000gn/T/ipykernel_1186/215673675.py:37: FutureWarning:\n",
      "\n",
      "Passing 'suffixes' which cause duplicate columns {'Count_x'} in the result is deprecated and will raise a MergeError in a future version.\n",
      "\n",
      "/var/folders/_1/v77zt5js6k783_zdyv8b691h0000gn/T/ipykernel_1186/215673675.py:37: FutureWarning:\n",
      "\n",
      "Passing 'suffixes' which cause duplicate columns {'Count_x'} in the result is deprecated and will raise a MergeError in a future version.\n",
      "\n",
      "/var/folders/_1/v77zt5js6k783_zdyv8b691h0000gn/T/ipykernel_1186/215673675.py:37: FutureWarning:\n",
      "\n",
      "Passing 'suffixes' which cause duplicate columns {'Count_x'} in the result is deprecated and will raise a MergeError in a future version.\n",
      "\n",
      "/var/folders/_1/v77zt5js6k783_zdyv8b691h0000gn/T/ipykernel_1186/215673675.py:37: FutureWarning:\n",
      "\n",
      "Passing 'suffixes' which cause duplicate columns {'Count_x'} in the result is deprecated and will raise a MergeError in a future version.\n",
      "\n",
      "/var/folders/_1/v77zt5js6k783_zdyv8b691h0000gn/T/ipykernel_1186/215673675.py:37: FutureWarning:\n",
      "\n",
      "Passing 'suffixes' which cause duplicate columns {'Count_x'} in the result is deprecated and will raise a MergeError in a future version.\n",
      "\n",
      "/var/folders/_1/v77zt5js6k783_zdyv8b691h0000gn/T/ipykernel_1186/215673675.py:37: FutureWarning:\n",
      "\n",
      "Passing 'suffixes' which cause duplicate columns {'Count_x'} in the result is deprecated and will raise a MergeError in a future version.\n",
      "\n",
      "/var/folders/_1/v77zt5js6k783_zdyv8b691h0000gn/T/ipykernel_1186/215673675.py:37: FutureWarning:\n",
      "\n",
      "Passing 'suffixes' which cause duplicate columns {'Count_x'} in the result is deprecated and will raise a MergeError in a future version.\n",
      "\n",
      "/var/folders/_1/v77zt5js6k783_zdyv8b691h0000gn/T/ipykernel_1186/215673675.py:37: FutureWarning:\n",
      "\n",
      "Passing 'suffixes' which cause duplicate columns {'Count_x'} in the result is deprecated and will raise a MergeError in a future version.\n",
      "\n"
     ]
    },
    {
     "name": "stdout",
     "output_type": "stream",
     "text": [
      "                        NegT4-1_counts  Embryo-1-1_counts  Nih3t3-2-3_counts  \\\n",
      "Actb-exon-1_5prime\\n               0.0               2712             1870.0   \n",
      "Actb-exon-2_5prime\\n               0.0               3532             2412.0   \n",
      "Apoe-exon-1_5prime\\n               0.0                  7                3.0   \n",
      "Apoe-exon-5_5prime\\n               0.0                404                4.0   \n",
      "Apoe-exon-9_5prime\\n               0.0                191                0.0   \n",
      "...                                ...                ...                ...   \n",
      "Tuba1a-exon-2_5prime\\n             0.0                358              299.0   \n",
      "Tuba1a-exon-3_5prime\\n             0.0                507              544.0   \n",
      "Wfdc2-exon-1_5prime\\n              0.0                 34                4.0   \n",
      "Wfdc2-exon-2_5prime\\n              0.0                 30                3.0   \n",
      "Wfdc2-exon-3_5prime\\n              0.0                 65               13.0   \n",
      "\n",
      "                        NegRo-2_counts  Negprobe-3-David_counts  \\\n",
      "Actb-exon-1_5prime\\n             134.0                      1.0   \n",
      "Actb-exon-2_5prime\\n             170.0                      2.0   \n",
      "Apoe-exon-1_5prime\\n               0.0                      2.0   \n",
      "Apoe-exon-5_5prime\\n               0.0                      2.0   \n",
      "Apoe-exon-9_5prime\\n               0.0                      2.0   \n",
      "...                                ...                      ...   \n",
      "Tuba1a-exon-2_5prime\\n            16.0                      2.0   \n",
      "Tuba1a-exon-3_5prime\\n            44.0                      0.0   \n",
      "Wfdc2-exon-1_5prime\\n              1.0                      2.0   \n",
      "Wfdc2-exon-2_5prime\\n              0.0                      0.0   \n",
      "Wfdc2-exon-3_5prime\\n              0.0                      1.0   \n",
      "\n",
      "                        Embryo-2-2_counts  Negprobe-3_counts  \\\n",
      "Actb-exon-1_5prime\\n               1628.0                1.0   \n",
      "Actb-exon-2_5prime\\n               2337.0                0.0   \n",
      "Apoe-exon-1_5prime\\n                  5.0                0.0   \n",
      "Apoe-exon-5_5prime\\n                290.0                0.0   \n",
      "Apoe-exon-9_5prime\\n                165.0                0.0   \n",
      "...                                   ...                ...   \n",
      "Tuba1a-exon-2_5prime\\n              204.0                1.0   \n",
      "Tuba1a-exon-3_5prime\\n              264.0                0.0   \n",
      "Wfdc2-exon-1_5prime\\n                22.0                0.0   \n",
      "Wfdc2-exon-2_5prime\\n                12.0                0.0   \n",
      "Wfdc2-exon-3_5prime\\n                30.0                0.0   \n",
      "\n",
      "                        Spleen-David_counts  NegT4-3_counts  \\\n",
      "Actb-exon-1_5prime\\n                   82.0             0.0   \n",
      "Actb-exon-2_5prime\\n                  153.0             0.0   \n",
      "Apoe-exon-1_5prime\\n                   31.0             0.0   \n",
      "Apoe-exon-5_5prime\\n                    7.0             0.0   \n",
      "Apoe-exon-9_5prime\\n                    8.0             0.0   \n",
      "...                                     ...             ...   \n",
      "Tuba1a-exon-2_5prime\\n                 40.0             0.0   \n",
      "Tuba1a-exon-3_5prime\\n                 90.0             0.0   \n",
      "Wfdc2-exon-1_5prime\\n                  22.0             0.0   \n",
      "Wfdc2-exon-2_5prime\\n                  19.0             0.0   \n",
      "Wfdc2-exon-3_5prime\\n                  39.0             0.0   \n",
      "\n",
      "                        Nih3t3-1-David_counts  ...  NegRo-3_counts  \\\n",
      "Actb-exon-1_5prime\\n                     2361  ...           187.0   \n",
      "Actb-exon-2_5prime\\n                      475  ...           239.0   \n",
      "Apoe-exon-1_5prime\\n                       19  ...             0.0   \n",
      "Apoe-exon-5_5prime\\n                       11  ...             0.0   \n",
      "Apoe-exon-9_5prime\\n                       19  ...             0.0   \n",
      "...                                       ...  ...             ...   \n",
      "Tuba1a-exon-2_5prime\\n                    135  ...            29.0   \n",
      "Tuba1a-exon-3_5prime\\n                    394  ...            67.0   \n",
      "Wfdc2-exon-1_5prime\\n                      20  ...             0.0   \n",
      "Wfdc2-exon-2_5prime\\n                      16  ...             1.0   \n",
      "Wfdc2-exon-3_5prime\\n                      48  ...             1.0   \n",
      "\n",
      "                        Negall-3_counts  Nih3t3-3-David_counts  \\\n",
      "Actb-exon-1_5prime\\n                0.0                 2094.0   \n",
      "Actb-exon-2_5prime\\n                0.0                 1745.0   \n",
      "Apoe-exon-1_5prime\\n                0.0                    8.0   \n",
      "Apoe-exon-5_5prime\\n                0.0                    4.0   \n",
      "Apoe-exon-9_5prime\\n                0.0                    3.0   \n",
      "...                                 ...                    ...   \n",
      "Tuba1a-exon-2_5prime\\n              0.0                  323.0   \n",
      "Tuba1a-exon-3_5prime\\n              0.0                  401.0   \n",
      "Wfdc2-exon-1_5prime\\n               0.0                    4.0   \n",
      "Wfdc2-exon-2_5prime\\n               0.0                    5.0   \n",
      "Wfdc2-exon-3_5prime\\n               0.0                    8.0   \n",
      "\n",
      "                        Nih3t3-1-3_counts  Embryo-2-1_counts  NegT4-2_counts  \\\n",
      "Actb-exon-1_5prime\\n                926.0             4946.0             0.0   \n",
      "Actb-exon-2_5prime\\n               1083.0             6113.0             0.0   \n",
      "Apoe-exon-1_5prime\\n                  0.0               15.0             0.0   \n",
      "Apoe-exon-5_5prime\\n                  1.0              783.0             0.0   \n",
      "Apoe-exon-9_5prime\\n                  2.0              489.0             0.0   \n",
      "...                                   ...                ...             ...   \n",
      "Tuba1a-exon-2_5prime\\n              189.0              517.0             0.0   \n",
      "Tuba1a-exon-3_5prime\\n              338.0              666.0             0.0   \n",
      "Wfdc2-exon-1_5prime\\n                 3.0               39.0             0.0   \n",
      "Wfdc2-exon-2_5prime\\n                 1.0               34.0             0.0   \n",
      "Wfdc2-exon-3_5prime\\n                 5.0               60.0             0.0   \n",
      "\n",
      "                        NegH1-3_counts  NegRo-1_counts  Embryo-1-2_counts  \\\n",
      "Actb-exon-1_5prime\\n               8.0           388.0             3945.0   \n",
      "Actb-exon-2_5prime\\n               7.0           520.0             4446.0   \n",
      "Apoe-exon-1_5prime\\n               0.0             0.0                5.0   \n",
      "Apoe-exon-5_5prime\\n               0.0             3.0              174.0   \n",
      "Apoe-exon-9_5prime\\n               1.0             1.0              123.0   \n",
      "...                                ...             ...                ...   \n",
      "Tuba1a-exon-2_5prime\\n             0.0            65.0              177.0   \n",
      "Tuba1a-exon-3_5prime\\n             1.0           125.0              219.0   \n",
      "Wfdc2-exon-1_5prime\\n              0.0             0.0               30.0   \n",
      "Wfdc2-exon-2_5prime\\n              0.0             2.0               21.0   \n",
      "Wfdc2-exon-3_5prime\\n              1.0             2.0               47.0   \n",
      "\n",
      "                        Negall-3-David_counts  \n",
      "Actb-exon-1_5prime\\n                      0.0  \n",
      "Actb-exon-2_5prime\\n                      0.0  \n",
      "Apoe-exon-1_5prime\\n                      0.0  \n",
      "Apoe-exon-5_5prime\\n                      0.0  \n",
      "Apoe-exon-9_5prime\\n                      0.0  \n",
      "...                                       ...  \n",
      "Tuba1a-exon-2_5prime\\n                    0.0  \n",
      "Tuba1a-exon-3_5prime\\n                    0.0  \n",
      "Wfdc2-exon-1_5prime\\n                     0.0  \n",
      "Wfdc2-exon-2_5prime\\n                     0.0  \n",
      "Wfdc2-exon-3_5prime\\n                     0.0  \n",
      "\n",
      "[144 rows x 36 columns]\n"
     ]
    },
    {
     "name": "stderr",
     "output_type": "stream",
     "text": [
      "/var/folders/_1/v77zt5js6k783_zdyv8b691h0000gn/T/ipykernel_1186/215673675.py:37: FutureWarning:\n",
      "\n",
      "Passing 'suffixes' which cause duplicate columns {'Count_x'} in the result is deprecated and will raise a MergeError in a future version.\n",
      "\n",
      "/var/folders/_1/v77zt5js6k783_zdyv8b691h0000gn/T/ipykernel_1186/215673675.py:37: FutureWarning:\n",
      "\n",
      "Passing 'suffixes' which cause duplicate columns {'Count_x'} in the result is deprecated and will raise a MergeError in a future version.\n",
      "\n",
      "/var/folders/_1/v77zt5js6k783_zdyv8b691h0000gn/T/ipykernel_1186/215673675.py:37: FutureWarning:\n",
      "\n",
      "Passing 'suffixes' which cause duplicate columns {'Count_x'} in the result is deprecated and will raise a MergeError in a future version.\n",
      "\n",
      "/var/folders/_1/v77zt5js6k783_zdyv8b691h0000gn/T/ipykernel_1186/215673675.py:37: FutureWarning:\n",
      "\n",
      "Passing 'suffixes' which cause duplicate columns {'Count_x'} in the result is deprecated and will raise a MergeError in a future version.\n",
      "\n",
      "/var/folders/_1/v77zt5js6k783_zdyv8b691h0000gn/T/ipykernel_1186/215673675.py:37: FutureWarning:\n",
      "\n",
      "Passing 'suffixes' which cause duplicate columns {'Count_x'} in the result is deprecated and will raise a MergeError in a future version.\n",
      "\n",
      "/var/folders/_1/v77zt5js6k783_zdyv8b691h0000gn/T/ipykernel_1186/215673675.py:37: FutureWarning:\n",
      "\n",
      "Passing 'suffixes' which cause duplicate columns {'Count_x'} in the result is deprecated and will raise a MergeError in a future version.\n",
      "\n",
      "/var/folders/_1/v77zt5js6k783_zdyv8b691h0000gn/T/ipykernel_1186/215673675.py:37: FutureWarning:\n",
      "\n",
      "Passing 'suffixes' which cause duplicate columns {'Count_x'} in the result is deprecated and will raise a MergeError in a future version.\n",
      "\n"
     ]
    }
   ],
   "source": [
    "#used to generate a matrix of all data found in hyprseq reads \n",
    "os.chdir(\"/Users/sakshamgupta/Desktop/HyprSeq_analysis_saksham/data/UMI_count\")\n",
    "root = \"/Users/sakshamgupta/Desktop/HyprSeq_analysis_saksham/data/UMI_count\"\n",
    "allCounts = []\n",
    "\n",
    "for path, subdirs, files in os.walk(root):\n",
    "    for name in files:\n",
    "        if name.endswith(\"counts.txt\"):\n",
    "            allCounts.append(os.path.join(path, name))\n",
    "            \n",
    "geneFile = open(\"/Users/sakshamgupta/Desktop/HyprSeq_analysis_saksham/probe_index.txt\", \"r\")\n",
    "lines = geneFile.readlines()\n",
    "geneNamesFinal = []\n",
    "for i in lines:\n",
    "    if i.startswith(\">\"):\n",
    "        geneNamesFinal.append(i[1:])\n",
    "            \n",
    "finalColNames = []\n",
    "for i in allCounts:\n",
    "    unfiltNames = i.split(\"/EHyprSeq-\",1)[1]\n",
    "    Names = unfiltNames.split(\".\",1)[0]\n",
    "    finalColNames.append(Names)\n",
    "    \n",
    "mergeArrayContents = [] \n",
    "for files in allCounts:\n",
    "    data = open(files, \"r\")\n",
    "    genes = data.readlines()\n",
    "    finalCount = {\"Genes\":[],\"Count\":[]}\n",
    "    for i in genes:\n",
    "        finalCount[\"Genes\"].append(i.split(\"\\t\")[0])\n",
    "        finalCount[\"Count\"].append(int(i.split(\"\\t\")[1]))\n",
    "    mergeArrayContents.append(finalCount)\n",
    "    \n",
    "data_frames = []\n",
    "for i in range(len(allCounts)):\n",
    "    data_frames.append(pd.DataFrame(mergeArrayContents[i]))\n",
    "    \n",
    "df_merged = reduce(lambda  left,right: pd.merge(left,right,on=['Genes'],\n",
    "                                            how='outer'), data_frames).fillna(0)\n",
    "\n",
    "df_merged.index = geneNamesFinal\n",
    "del df_merged[\"Genes\"]\n",
    "df_merged.columns = finalColNames\n",
    "\n",
    "print(df_merged)\n",
    "\n"
   ]
  },
  {
   "cell_type": "code",
   "execution_count": 219,
   "id": "cbeb93e2",
   "metadata": {},
   "outputs": [
    {
     "data": {
      "application/vnd.plotly.v1+json": {
       "config": {
        "plotlyServerURL": "https://plot.ly"
       },
       "data": [
        {
         "hovertemplate": "color=NegT4<br>0=%{x}<br>1=%{y}<extra></extra>",
         "legendgroup": "NegT4",
         "marker": {
          "color": "#636efa",
          "symbol": "circle"
         },
         "mode": "markers",
         "name": "NegT4",
         "orientation": "v",
         "showlegend": true,
         "type": "scatter",
         "x": [
          -1574.527908917973,
          -1574.5164638318831,
          -1574.5279089179746,
          -1574.3662288803835
         ],
         "xaxis": "x",
         "y": [
          153.50222445815535,
          153.52907278729066,
          153.50222445815572,
          153.04572150660013
         ],
         "yaxis": "y"
        },
        {
         "hovertemplate": "color=Embryo<br>0=%{x}<br>1=%{y}<extra></extra>",
         "legendgroup": "Embryo",
         "marker": {
          "color": "#EF553B",
          "symbol": "circle"
         },
         "mode": "markers",
         "name": "Embryo",
         "orientation": "v",
         "showlegend": true,
         "type": "scatter",
         "x": [
          3123.0033923115125,
          1372.5202707874107,
          469.0050638358194,
          -256.5561049632291,
          6629.677299110463,
          4775.565345765421
         ],
         "xaxis": "x",
         "y": [
          1433.3551177379927,
          1026.9509238059957,
          756.6913168926887,
          539.8778220023902,
          2641.5013234667967,
          1073.9812167603425
         ],
         "yaxis": "y"
        },
        {
         "hovertemplate": "color=Nih3t3<br>0=%{x}<br>1=%{y}<extra></extra>",
         "legendgroup": "Nih3t3",
         "marker": {
          "color": "#00cc96",
          "symbol": "circle"
         },
         "mode": "markers",
         "name": "Nih3t3",
         "orientation": "v",
         "showlegend": true,
         "type": "scatter",
         "x": [
          2088.9396729720143,
          1409.239087656689,
          808.2334806749378,
          394.7133890778678,
          1043.03888687432,
          1926.7643872955803,
          5781.8647715966945,
          1578.0275490294587,
          176.1852794525342
         ],
         "xaxis": "x",
         "y": [
          -932.4010921772453,
          -2489.841426917321,
          -492.9041566211999,
          -467.51733975650376,
          -957.3691557460054,
          -1459.1473451012193,
          -2272.506289414321,
          -789.8908110685029,
          -450.0754146325676
         ],
         "yaxis": "y"
        },
        {
         "hovertemplate": "color=NegRo<br>0=%{x}<br>1=%{y}<extra></extra>",
         "legendgroup": "NegRo",
         "marker": {
          "color": "#ab63fa",
          "symbol": "circle"
         },
         "mode": "markers",
         "name": "NegRo",
         "orientation": "v",
         "showlegend": true,
         "type": "scatter",
         "x": [
          -1320.5140661026408,
          -1574.5279089179746,
          -1217.008332507449,
          -795.9072067909567
         ],
         "xaxis": "x",
         "y": [
          86.39745718881858,
          153.50222445815572,
          59.392163213993435,
          -76.0402285779333
         ],
         "yaxis": "y"
        },
        {
         "hovertemplate": "color=Negprobe<br>0=%{x}<br>1=%{y}<extra></extra>",
         "legendgroup": "Negprobe",
         "marker": {
          "color": "#FFA15A",
          "symbol": "circle"
         },
         "mode": "markers",
         "name": "Negprobe",
         "orientation": "v",
         "showlegend": true,
         "type": "scatter",
         "x": [
          -1570.2960835794709,
          -1573.673407679944,
          -1562.4313066131485,
          -1573.3128618515861
         ],
         "xaxis": "x",
         "y": [
          152.5762780067065,
          153.45961690440015,
          152.4282865443255,
          153.42780767716224
         ],
         "yaxis": "y"
        },
        {
         "hovertemplate": "color=Spleen<br>0=%{x}<br>1=%{y}<extra></extra>",
         "legendgroup": "Spleen",
         "marker": {
          "color": "#19d3f3",
          "symbol": "circle"
         },
         "mode": "markers",
         "name": "Spleen",
         "orientation": "v",
         "showlegend": true,
         "type": "scatter",
         "x": [
          -1359.7974231614278
         ],
         "xaxis": "x",
         "y": [
          170.86857725947843
         ],
         "yaxis": "y"
        },
        {
         "hovertemplate": "color=NegH1<br>0=%{x}<br>1=%{y}<extra></extra>",
         "legendgroup": "NegH1",
         "marker": {
          "color": "#FF6692",
          "symbol": "circle"
         },
         "mode": "markers",
         "name": "NegH1",
         "orientation": "v",
         "showlegend": true,
         "type": "scatter",
         "x": [
          -1498.804506436468,
          -1573.5115686892434,
          -1541.2258069632699,
          -1563.310725115215
         ],
         "xaxis": "x",
         "y": [
          148.4161313351835,
          153.83559830859159,
          150.37562619001017,
          152.92977147321133
         ],
         "yaxis": "y"
        },
        {
         "hovertemplate": "color=Negall<br>0=%{x}<br>1=%{y}<extra></extra>",
         "legendgroup": "Negall",
         "marker": {
          "color": "#B6E880",
          "symbol": "circle"
         },
         "mode": "markers",
         "name": "Negall",
         "orientation": "v",
         "showlegend": true,
         "type": "scatter",
         "x": [
          -1574.5279089179746,
          -1574.378329766551,
          -1574.5279089179746,
          -1574.5279089179746
         ],
         "xaxis": "x",
         "y": [
          153.50222445815572,
          153.64008420189998,
          153.50222445815572,
          153.5022244581556
         ],
         "yaxis": "y"
        }
       ],
       "layout": {
        "legend": {
         "title": {
          "text": "color"
         },
         "tracegroupgap": 0
        },
        "margin": {
         "t": 60
        },
        "template": {
         "data": {
          "bar": [
           {
            "error_x": {
             "color": "#2a3f5f"
            },
            "error_y": {
             "color": "#2a3f5f"
            },
            "marker": {
             "line": {
              "color": "#E5ECF6",
              "width": 0.5
             },
             "pattern": {
              "fillmode": "overlay",
              "size": 10,
              "solidity": 0.2
             }
            },
            "type": "bar"
           }
          ],
          "barpolar": [
           {
            "marker": {
             "line": {
              "color": "#E5ECF6",
              "width": 0.5
             },
             "pattern": {
              "fillmode": "overlay",
              "size": 10,
              "solidity": 0.2
             }
            },
            "type": "barpolar"
           }
          ],
          "carpet": [
           {
            "aaxis": {
             "endlinecolor": "#2a3f5f",
             "gridcolor": "white",
             "linecolor": "white",
             "minorgridcolor": "white",
             "startlinecolor": "#2a3f5f"
            },
            "baxis": {
             "endlinecolor": "#2a3f5f",
             "gridcolor": "white",
             "linecolor": "white",
             "minorgridcolor": "white",
             "startlinecolor": "#2a3f5f"
            },
            "type": "carpet"
           }
          ],
          "choropleth": [
           {
            "colorbar": {
             "outlinewidth": 0,
             "ticks": ""
            },
            "type": "choropleth"
           }
          ],
          "contour": [
           {
            "colorbar": {
             "outlinewidth": 0,
             "ticks": ""
            },
            "colorscale": [
             [
              0,
              "#0d0887"
             ],
             [
              0.1111111111111111,
              "#46039f"
             ],
             [
              0.2222222222222222,
              "#7201a8"
             ],
             [
              0.3333333333333333,
              "#9c179e"
             ],
             [
              0.4444444444444444,
              "#bd3786"
             ],
             [
              0.5555555555555556,
              "#d8576b"
             ],
             [
              0.6666666666666666,
              "#ed7953"
             ],
             [
              0.7777777777777778,
              "#fb9f3a"
             ],
             [
              0.8888888888888888,
              "#fdca26"
             ],
             [
              1,
              "#f0f921"
             ]
            ],
            "type": "contour"
           }
          ],
          "contourcarpet": [
           {
            "colorbar": {
             "outlinewidth": 0,
             "ticks": ""
            },
            "type": "contourcarpet"
           }
          ],
          "heatmap": [
           {
            "colorbar": {
             "outlinewidth": 0,
             "ticks": ""
            },
            "colorscale": [
             [
              0,
              "#0d0887"
             ],
             [
              0.1111111111111111,
              "#46039f"
             ],
             [
              0.2222222222222222,
              "#7201a8"
             ],
             [
              0.3333333333333333,
              "#9c179e"
             ],
             [
              0.4444444444444444,
              "#bd3786"
             ],
             [
              0.5555555555555556,
              "#d8576b"
             ],
             [
              0.6666666666666666,
              "#ed7953"
             ],
             [
              0.7777777777777778,
              "#fb9f3a"
             ],
             [
              0.8888888888888888,
              "#fdca26"
             ],
             [
              1,
              "#f0f921"
             ]
            ],
            "type": "heatmap"
           }
          ],
          "heatmapgl": [
           {
            "colorbar": {
             "outlinewidth": 0,
             "ticks": ""
            },
            "colorscale": [
             [
              0,
              "#0d0887"
             ],
             [
              0.1111111111111111,
              "#46039f"
             ],
             [
              0.2222222222222222,
              "#7201a8"
             ],
             [
              0.3333333333333333,
              "#9c179e"
             ],
             [
              0.4444444444444444,
              "#bd3786"
             ],
             [
              0.5555555555555556,
              "#d8576b"
             ],
             [
              0.6666666666666666,
              "#ed7953"
             ],
             [
              0.7777777777777778,
              "#fb9f3a"
             ],
             [
              0.8888888888888888,
              "#fdca26"
             ],
             [
              1,
              "#f0f921"
             ]
            ],
            "type": "heatmapgl"
           }
          ],
          "histogram": [
           {
            "marker": {
             "pattern": {
              "fillmode": "overlay",
              "size": 10,
              "solidity": 0.2
             }
            },
            "type": "histogram"
           }
          ],
          "histogram2d": [
           {
            "colorbar": {
             "outlinewidth": 0,
             "ticks": ""
            },
            "colorscale": [
             [
              0,
              "#0d0887"
             ],
             [
              0.1111111111111111,
              "#46039f"
             ],
             [
              0.2222222222222222,
              "#7201a8"
             ],
             [
              0.3333333333333333,
              "#9c179e"
             ],
             [
              0.4444444444444444,
              "#bd3786"
             ],
             [
              0.5555555555555556,
              "#d8576b"
             ],
             [
              0.6666666666666666,
              "#ed7953"
             ],
             [
              0.7777777777777778,
              "#fb9f3a"
             ],
             [
              0.8888888888888888,
              "#fdca26"
             ],
             [
              1,
              "#f0f921"
             ]
            ],
            "type": "histogram2d"
           }
          ],
          "histogram2dcontour": [
           {
            "colorbar": {
             "outlinewidth": 0,
             "ticks": ""
            },
            "colorscale": [
             [
              0,
              "#0d0887"
             ],
             [
              0.1111111111111111,
              "#46039f"
             ],
             [
              0.2222222222222222,
              "#7201a8"
             ],
             [
              0.3333333333333333,
              "#9c179e"
             ],
             [
              0.4444444444444444,
              "#bd3786"
             ],
             [
              0.5555555555555556,
              "#d8576b"
             ],
             [
              0.6666666666666666,
              "#ed7953"
             ],
             [
              0.7777777777777778,
              "#fb9f3a"
             ],
             [
              0.8888888888888888,
              "#fdca26"
             ],
             [
              1,
              "#f0f921"
             ]
            ],
            "type": "histogram2dcontour"
           }
          ],
          "mesh3d": [
           {
            "colorbar": {
             "outlinewidth": 0,
             "ticks": ""
            },
            "type": "mesh3d"
           }
          ],
          "parcoords": [
           {
            "line": {
             "colorbar": {
              "outlinewidth": 0,
              "ticks": ""
             }
            },
            "type": "parcoords"
           }
          ],
          "pie": [
           {
            "automargin": true,
            "type": "pie"
           }
          ],
          "scatter": [
           {
            "marker": {
             "colorbar": {
              "outlinewidth": 0,
              "ticks": ""
             }
            },
            "type": "scatter"
           }
          ],
          "scatter3d": [
           {
            "line": {
             "colorbar": {
              "outlinewidth": 0,
              "ticks": ""
             }
            },
            "marker": {
             "colorbar": {
              "outlinewidth": 0,
              "ticks": ""
             }
            },
            "type": "scatter3d"
           }
          ],
          "scattercarpet": [
           {
            "marker": {
             "colorbar": {
              "outlinewidth": 0,
              "ticks": ""
             }
            },
            "type": "scattercarpet"
           }
          ],
          "scattergeo": [
           {
            "marker": {
             "colorbar": {
              "outlinewidth": 0,
              "ticks": ""
             }
            },
            "type": "scattergeo"
           }
          ],
          "scattergl": [
           {
            "marker": {
             "colorbar": {
              "outlinewidth": 0,
              "ticks": ""
             }
            },
            "type": "scattergl"
           }
          ],
          "scattermapbox": [
           {
            "marker": {
             "colorbar": {
              "outlinewidth": 0,
              "ticks": ""
             }
            },
            "type": "scattermapbox"
           }
          ],
          "scatterpolar": [
           {
            "marker": {
             "colorbar": {
              "outlinewidth": 0,
              "ticks": ""
             }
            },
            "type": "scatterpolar"
           }
          ],
          "scatterpolargl": [
           {
            "marker": {
             "colorbar": {
              "outlinewidth": 0,
              "ticks": ""
             }
            },
            "type": "scatterpolargl"
           }
          ],
          "scatterternary": [
           {
            "marker": {
             "colorbar": {
              "outlinewidth": 0,
              "ticks": ""
             }
            },
            "type": "scatterternary"
           }
          ],
          "surface": [
           {
            "colorbar": {
             "outlinewidth": 0,
             "ticks": ""
            },
            "colorscale": [
             [
              0,
              "#0d0887"
             ],
             [
              0.1111111111111111,
              "#46039f"
             ],
             [
              0.2222222222222222,
              "#7201a8"
             ],
             [
              0.3333333333333333,
              "#9c179e"
             ],
             [
              0.4444444444444444,
              "#bd3786"
             ],
             [
              0.5555555555555556,
              "#d8576b"
             ],
             [
              0.6666666666666666,
              "#ed7953"
             ],
             [
              0.7777777777777778,
              "#fb9f3a"
             ],
             [
              0.8888888888888888,
              "#fdca26"
             ],
             [
              1,
              "#f0f921"
             ]
            ],
            "type": "surface"
           }
          ],
          "table": [
           {
            "cells": {
             "fill": {
              "color": "#EBF0F8"
             },
             "line": {
              "color": "white"
             }
            },
            "header": {
             "fill": {
              "color": "#C8D4E3"
             },
             "line": {
              "color": "white"
             }
            },
            "type": "table"
           }
          ]
         },
         "layout": {
          "annotationdefaults": {
           "arrowcolor": "#2a3f5f",
           "arrowhead": 0,
           "arrowwidth": 1
          },
          "autotypenumbers": "strict",
          "coloraxis": {
           "colorbar": {
            "outlinewidth": 0,
            "ticks": ""
           }
          },
          "colorscale": {
           "diverging": [
            [
             0,
             "#8e0152"
            ],
            [
             0.1,
             "#c51b7d"
            ],
            [
             0.2,
             "#de77ae"
            ],
            [
             0.3,
             "#f1b6da"
            ],
            [
             0.4,
             "#fde0ef"
            ],
            [
             0.5,
             "#f7f7f7"
            ],
            [
             0.6,
             "#e6f5d0"
            ],
            [
             0.7,
             "#b8e186"
            ],
            [
             0.8,
             "#7fbc41"
            ],
            [
             0.9,
             "#4d9221"
            ],
            [
             1,
             "#276419"
            ]
           ],
           "sequential": [
            [
             0,
             "#0d0887"
            ],
            [
             0.1111111111111111,
             "#46039f"
            ],
            [
             0.2222222222222222,
             "#7201a8"
            ],
            [
             0.3333333333333333,
             "#9c179e"
            ],
            [
             0.4444444444444444,
             "#bd3786"
            ],
            [
             0.5555555555555556,
             "#d8576b"
            ],
            [
             0.6666666666666666,
             "#ed7953"
            ],
            [
             0.7777777777777778,
             "#fb9f3a"
            ],
            [
             0.8888888888888888,
             "#fdca26"
            ],
            [
             1,
             "#f0f921"
            ]
           ],
           "sequentialminus": [
            [
             0,
             "#0d0887"
            ],
            [
             0.1111111111111111,
             "#46039f"
            ],
            [
             0.2222222222222222,
             "#7201a8"
            ],
            [
             0.3333333333333333,
             "#9c179e"
            ],
            [
             0.4444444444444444,
             "#bd3786"
            ],
            [
             0.5555555555555556,
             "#d8576b"
            ],
            [
             0.6666666666666666,
             "#ed7953"
            ],
            [
             0.7777777777777778,
             "#fb9f3a"
            ],
            [
             0.8888888888888888,
             "#fdca26"
            ],
            [
             1,
             "#f0f921"
            ]
           ]
          },
          "colorway": [
           "#636efa",
           "#EF553B",
           "#00cc96",
           "#ab63fa",
           "#FFA15A",
           "#19d3f3",
           "#FF6692",
           "#B6E880",
           "#FF97FF",
           "#FECB52"
          ],
          "font": {
           "color": "#2a3f5f"
          },
          "geo": {
           "bgcolor": "white",
           "lakecolor": "white",
           "landcolor": "#E5ECF6",
           "showlakes": true,
           "showland": true,
           "subunitcolor": "white"
          },
          "hoverlabel": {
           "align": "left"
          },
          "hovermode": "closest",
          "mapbox": {
           "style": "light"
          },
          "paper_bgcolor": "white",
          "plot_bgcolor": "#E5ECF6",
          "polar": {
           "angularaxis": {
            "gridcolor": "white",
            "linecolor": "white",
            "ticks": ""
           },
           "bgcolor": "#E5ECF6",
           "radialaxis": {
            "gridcolor": "white",
            "linecolor": "white",
            "ticks": ""
           }
          },
          "scene": {
           "xaxis": {
            "backgroundcolor": "#E5ECF6",
            "gridcolor": "white",
            "gridwidth": 2,
            "linecolor": "white",
            "showbackground": true,
            "ticks": "",
            "zerolinecolor": "white"
           },
           "yaxis": {
            "backgroundcolor": "#E5ECF6",
            "gridcolor": "white",
            "gridwidth": 2,
            "linecolor": "white",
            "showbackground": true,
            "ticks": "",
            "zerolinecolor": "white"
           },
           "zaxis": {
            "backgroundcolor": "#E5ECF6",
            "gridcolor": "white",
            "gridwidth": 2,
            "linecolor": "white",
            "showbackground": true,
            "ticks": "",
            "zerolinecolor": "white"
           }
          },
          "shapedefaults": {
           "line": {
            "color": "#2a3f5f"
           }
          },
          "ternary": {
           "aaxis": {
            "gridcolor": "white",
            "linecolor": "white",
            "ticks": ""
           },
           "baxis": {
            "gridcolor": "white",
            "linecolor": "white",
            "ticks": ""
           },
           "bgcolor": "#E5ECF6",
           "caxis": {
            "gridcolor": "white",
            "linecolor": "white",
            "ticks": ""
           }
          },
          "title": {
           "x": 0.05
          },
          "xaxis": {
           "automargin": true,
           "gridcolor": "white",
           "linecolor": "white",
           "ticks": "",
           "title": {
            "standoff": 15
           },
           "zerolinecolor": "white",
           "zerolinewidth": 2
          },
          "yaxis": {
           "automargin": true,
           "gridcolor": "white",
           "linecolor": "white",
           "ticks": "",
           "title": {
            "standoff": 15
           },
           "zerolinecolor": "white",
           "zerolinewidth": 2
          }
         }
        },
        "title": {
         "text": "Standard PCA analysis of HyPRSeq Data"
        },
        "xaxis": {
         "anchor": "y",
         "domain": [
          0,
          1
         ],
         "title": {
          "text": "PCA 1"
         }
        },
        "yaxis": {
         "anchor": "x",
         "domain": [
          0,
          1
         ],
         "title": {
          "text": "PCA 2"
         }
        }
       }
      },
      "text/html": [
       "<div>                            <div id=\"97831df7-e7a8-4d86-9b66-a57c3e07eceb\" class=\"plotly-graph-div\" style=\"height:525px; width:100%;\"></div>            <script type=\"text/javascript\">                require([\"plotly\"], function(Plotly) {                    window.PLOTLYENV=window.PLOTLYENV || {};                                    if (document.getElementById(\"97831df7-e7a8-4d86-9b66-a57c3e07eceb\")) {                    Plotly.newPlot(                        \"97831df7-e7a8-4d86-9b66-a57c3e07eceb\",                        [{\"hovertemplate\":\"color=NegT4<br>0=%{x}<br>1=%{y}<extra></extra>\",\"legendgroup\":\"NegT4\",\"marker\":{\"color\":\"#636efa\",\"symbol\":\"circle\"},\"mode\":\"markers\",\"name\":\"NegT4\",\"orientation\":\"v\",\"showlegend\":true,\"x\":[-1574.527908917973,-1574.5164638318831,-1574.5279089179746,-1574.3662288803835],\"xaxis\":\"x\",\"y\":[153.50222445815535,153.52907278729066,153.50222445815572,153.04572150660013],\"yaxis\":\"y\",\"type\":\"scatter\"},{\"hovertemplate\":\"color=Embryo<br>0=%{x}<br>1=%{y}<extra></extra>\",\"legendgroup\":\"Embryo\",\"marker\":{\"color\":\"#EF553B\",\"symbol\":\"circle\"},\"mode\":\"markers\",\"name\":\"Embryo\",\"orientation\":\"v\",\"showlegend\":true,\"x\":[3123.0033923115125,1372.5202707874107,469.0050638358194,-256.5561049632291,6629.677299110463,4775.565345765421],\"xaxis\":\"x\",\"y\":[1433.3551177379927,1026.9509238059957,756.6913168926887,539.8778220023902,2641.5013234667967,1073.9812167603425],\"yaxis\":\"y\",\"type\":\"scatter\"},{\"hovertemplate\":\"color=Nih3t3<br>0=%{x}<br>1=%{y}<extra></extra>\",\"legendgroup\":\"Nih3t3\",\"marker\":{\"color\":\"#00cc96\",\"symbol\":\"circle\"},\"mode\":\"markers\",\"name\":\"Nih3t3\",\"orientation\":\"v\",\"showlegend\":true,\"x\":[2088.9396729720143,1409.239087656689,808.2334806749378,394.7133890778678,1043.03888687432,1926.7643872955803,5781.8647715966945,1578.0275490294587,176.1852794525342],\"xaxis\":\"x\",\"y\":[-932.4010921772453,-2489.841426917321,-492.9041566211999,-467.51733975650376,-957.3691557460054,-1459.1473451012193,-2272.506289414321,-789.8908110685029,-450.0754146325676],\"yaxis\":\"y\",\"type\":\"scatter\"},{\"hovertemplate\":\"color=NegRo<br>0=%{x}<br>1=%{y}<extra></extra>\",\"legendgroup\":\"NegRo\",\"marker\":{\"color\":\"#ab63fa\",\"symbol\":\"circle\"},\"mode\":\"markers\",\"name\":\"NegRo\",\"orientation\":\"v\",\"showlegend\":true,\"x\":[-1320.5140661026408,-1574.5279089179746,-1217.008332507449,-795.9072067909567],\"xaxis\":\"x\",\"y\":[86.39745718881858,153.50222445815572,59.392163213993435,-76.0402285779333],\"yaxis\":\"y\",\"type\":\"scatter\"},{\"hovertemplate\":\"color=Negprobe<br>0=%{x}<br>1=%{y}<extra></extra>\",\"legendgroup\":\"Negprobe\",\"marker\":{\"color\":\"#FFA15A\",\"symbol\":\"circle\"},\"mode\":\"markers\",\"name\":\"Negprobe\",\"orientation\":\"v\",\"showlegend\":true,\"x\":[-1570.2960835794709,-1573.673407679944,-1562.4313066131485,-1573.3128618515861],\"xaxis\":\"x\",\"y\":[152.5762780067065,153.45961690440015,152.4282865443255,153.42780767716224],\"yaxis\":\"y\",\"type\":\"scatter\"},{\"hovertemplate\":\"color=Spleen<br>0=%{x}<br>1=%{y}<extra></extra>\",\"legendgroup\":\"Spleen\",\"marker\":{\"color\":\"#19d3f3\",\"symbol\":\"circle\"},\"mode\":\"markers\",\"name\":\"Spleen\",\"orientation\":\"v\",\"showlegend\":true,\"x\":[-1359.7974231614278],\"xaxis\":\"x\",\"y\":[170.86857725947843],\"yaxis\":\"y\",\"type\":\"scatter\"},{\"hovertemplate\":\"color=NegH1<br>0=%{x}<br>1=%{y}<extra></extra>\",\"legendgroup\":\"NegH1\",\"marker\":{\"color\":\"#FF6692\",\"symbol\":\"circle\"},\"mode\":\"markers\",\"name\":\"NegH1\",\"orientation\":\"v\",\"showlegend\":true,\"x\":[-1498.804506436468,-1573.5115686892434,-1541.2258069632699,-1563.310725115215],\"xaxis\":\"x\",\"y\":[148.4161313351835,153.83559830859159,150.37562619001017,152.92977147321133],\"yaxis\":\"y\",\"type\":\"scatter\"},{\"hovertemplate\":\"color=Negall<br>0=%{x}<br>1=%{y}<extra></extra>\",\"legendgroup\":\"Negall\",\"marker\":{\"color\":\"#B6E880\",\"symbol\":\"circle\"},\"mode\":\"markers\",\"name\":\"Negall\",\"orientation\":\"v\",\"showlegend\":true,\"x\":[-1574.5279089179746,-1574.378329766551,-1574.5279089179746,-1574.5279089179746],\"xaxis\":\"x\",\"y\":[153.50222445815572,153.64008420189998,153.50222445815572,153.5022244581556],\"yaxis\":\"y\",\"type\":\"scatter\"}],                        {\"template\":{\"data\":{\"bar\":[{\"error_x\":{\"color\":\"#2a3f5f\"},\"error_y\":{\"color\":\"#2a3f5f\"},\"marker\":{\"line\":{\"color\":\"#E5ECF6\",\"width\":0.5},\"pattern\":{\"fillmode\":\"overlay\",\"size\":10,\"solidity\":0.2}},\"type\":\"bar\"}],\"barpolar\":[{\"marker\":{\"line\":{\"color\":\"#E5ECF6\",\"width\":0.5},\"pattern\":{\"fillmode\":\"overlay\",\"size\":10,\"solidity\":0.2}},\"type\":\"barpolar\"}],\"carpet\":[{\"aaxis\":{\"endlinecolor\":\"#2a3f5f\",\"gridcolor\":\"white\",\"linecolor\":\"white\",\"minorgridcolor\":\"white\",\"startlinecolor\":\"#2a3f5f\"},\"baxis\":{\"endlinecolor\":\"#2a3f5f\",\"gridcolor\":\"white\",\"linecolor\":\"white\",\"minorgridcolor\":\"white\",\"startlinecolor\":\"#2a3f5f\"},\"type\":\"carpet\"}],\"choropleth\":[{\"colorbar\":{\"outlinewidth\":0,\"ticks\":\"\"},\"type\":\"choropleth\"}],\"contour\":[{\"colorbar\":{\"outlinewidth\":0,\"ticks\":\"\"},\"colorscale\":[[0.0,\"#0d0887\"],[0.1111111111111111,\"#46039f\"],[0.2222222222222222,\"#7201a8\"],[0.3333333333333333,\"#9c179e\"],[0.4444444444444444,\"#bd3786\"],[0.5555555555555556,\"#d8576b\"],[0.6666666666666666,\"#ed7953\"],[0.7777777777777778,\"#fb9f3a\"],[0.8888888888888888,\"#fdca26\"],[1.0,\"#f0f921\"]],\"type\":\"contour\"}],\"contourcarpet\":[{\"colorbar\":{\"outlinewidth\":0,\"ticks\":\"\"},\"type\":\"contourcarpet\"}],\"heatmap\":[{\"colorbar\":{\"outlinewidth\":0,\"ticks\":\"\"},\"colorscale\":[[0.0,\"#0d0887\"],[0.1111111111111111,\"#46039f\"],[0.2222222222222222,\"#7201a8\"],[0.3333333333333333,\"#9c179e\"],[0.4444444444444444,\"#bd3786\"],[0.5555555555555556,\"#d8576b\"],[0.6666666666666666,\"#ed7953\"],[0.7777777777777778,\"#fb9f3a\"],[0.8888888888888888,\"#fdca26\"],[1.0,\"#f0f921\"]],\"type\":\"heatmap\"}],\"heatmapgl\":[{\"colorbar\":{\"outlinewidth\":0,\"ticks\":\"\"},\"colorscale\":[[0.0,\"#0d0887\"],[0.1111111111111111,\"#46039f\"],[0.2222222222222222,\"#7201a8\"],[0.3333333333333333,\"#9c179e\"],[0.4444444444444444,\"#bd3786\"],[0.5555555555555556,\"#d8576b\"],[0.6666666666666666,\"#ed7953\"],[0.7777777777777778,\"#fb9f3a\"],[0.8888888888888888,\"#fdca26\"],[1.0,\"#f0f921\"]],\"type\":\"heatmapgl\"}],\"histogram\":[{\"marker\":{\"pattern\":{\"fillmode\":\"overlay\",\"size\":10,\"solidity\":0.2}},\"type\":\"histogram\"}],\"histogram2d\":[{\"colorbar\":{\"outlinewidth\":0,\"ticks\":\"\"},\"colorscale\":[[0.0,\"#0d0887\"],[0.1111111111111111,\"#46039f\"],[0.2222222222222222,\"#7201a8\"],[0.3333333333333333,\"#9c179e\"],[0.4444444444444444,\"#bd3786\"],[0.5555555555555556,\"#d8576b\"],[0.6666666666666666,\"#ed7953\"],[0.7777777777777778,\"#fb9f3a\"],[0.8888888888888888,\"#fdca26\"],[1.0,\"#f0f921\"]],\"type\":\"histogram2d\"}],\"histogram2dcontour\":[{\"colorbar\":{\"outlinewidth\":0,\"ticks\":\"\"},\"colorscale\":[[0.0,\"#0d0887\"],[0.1111111111111111,\"#46039f\"],[0.2222222222222222,\"#7201a8\"],[0.3333333333333333,\"#9c179e\"],[0.4444444444444444,\"#bd3786\"],[0.5555555555555556,\"#d8576b\"],[0.6666666666666666,\"#ed7953\"],[0.7777777777777778,\"#fb9f3a\"],[0.8888888888888888,\"#fdca26\"],[1.0,\"#f0f921\"]],\"type\":\"histogram2dcontour\"}],\"mesh3d\":[{\"colorbar\":{\"outlinewidth\":0,\"ticks\":\"\"},\"type\":\"mesh3d\"}],\"parcoords\":[{\"line\":{\"colorbar\":{\"outlinewidth\":0,\"ticks\":\"\"}},\"type\":\"parcoords\"}],\"pie\":[{\"automargin\":true,\"type\":\"pie\"}],\"scatter\":[{\"marker\":{\"colorbar\":{\"outlinewidth\":0,\"ticks\":\"\"}},\"type\":\"scatter\"}],\"scatter3d\":[{\"line\":{\"colorbar\":{\"outlinewidth\":0,\"ticks\":\"\"}},\"marker\":{\"colorbar\":{\"outlinewidth\":0,\"ticks\":\"\"}},\"type\":\"scatter3d\"}],\"scattercarpet\":[{\"marker\":{\"colorbar\":{\"outlinewidth\":0,\"ticks\":\"\"}},\"type\":\"scattercarpet\"}],\"scattergeo\":[{\"marker\":{\"colorbar\":{\"outlinewidth\":0,\"ticks\":\"\"}},\"type\":\"scattergeo\"}],\"scattergl\":[{\"marker\":{\"colorbar\":{\"outlinewidth\":0,\"ticks\":\"\"}},\"type\":\"scattergl\"}],\"scattermapbox\":[{\"marker\":{\"colorbar\":{\"outlinewidth\":0,\"ticks\":\"\"}},\"type\":\"scattermapbox\"}],\"scatterpolar\":[{\"marker\":{\"colorbar\":{\"outlinewidth\":0,\"ticks\":\"\"}},\"type\":\"scatterpolar\"}],\"scatterpolargl\":[{\"marker\":{\"colorbar\":{\"outlinewidth\":0,\"ticks\":\"\"}},\"type\":\"scatterpolargl\"}],\"scatterternary\":[{\"marker\":{\"colorbar\":{\"outlinewidth\":0,\"ticks\":\"\"}},\"type\":\"scatterternary\"}],\"surface\":[{\"colorbar\":{\"outlinewidth\":0,\"ticks\":\"\"},\"colorscale\":[[0.0,\"#0d0887\"],[0.1111111111111111,\"#46039f\"],[0.2222222222222222,\"#7201a8\"],[0.3333333333333333,\"#9c179e\"],[0.4444444444444444,\"#bd3786\"],[0.5555555555555556,\"#d8576b\"],[0.6666666666666666,\"#ed7953\"],[0.7777777777777778,\"#fb9f3a\"],[0.8888888888888888,\"#fdca26\"],[1.0,\"#f0f921\"]],\"type\":\"surface\"}],\"table\":[{\"cells\":{\"fill\":{\"color\":\"#EBF0F8\"},\"line\":{\"color\":\"white\"}},\"header\":{\"fill\":{\"color\":\"#C8D4E3\"},\"line\":{\"color\":\"white\"}},\"type\":\"table\"}]},\"layout\":{\"annotationdefaults\":{\"arrowcolor\":\"#2a3f5f\",\"arrowhead\":0,\"arrowwidth\":1},\"autotypenumbers\":\"strict\",\"coloraxis\":{\"colorbar\":{\"outlinewidth\":0,\"ticks\":\"\"}},\"colorscale\":{\"diverging\":[[0,\"#8e0152\"],[0.1,\"#c51b7d\"],[0.2,\"#de77ae\"],[0.3,\"#f1b6da\"],[0.4,\"#fde0ef\"],[0.5,\"#f7f7f7\"],[0.6,\"#e6f5d0\"],[0.7,\"#b8e186\"],[0.8,\"#7fbc41\"],[0.9,\"#4d9221\"],[1,\"#276419\"]],\"sequential\":[[0.0,\"#0d0887\"],[0.1111111111111111,\"#46039f\"],[0.2222222222222222,\"#7201a8\"],[0.3333333333333333,\"#9c179e\"],[0.4444444444444444,\"#bd3786\"],[0.5555555555555556,\"#d8576b\"],[0.6666666666666666,\"#ed7953\"],[0.7777777777777778,\"#fb9f3a\"],[0.8888888888888888,\"#fdca26\"],[1.0,\"#f0f921\"]],\"sequentialminus\":[[0.0,\"#0d0887\"],[0.1111111111111111,\"#46039f\"],[0.2222222222222222,\"#7201a8\"],[0.3333333333333333,\"#9c179e\"],[0.4444444444444444,\"#bd3786\"],[0.5555555555555556,\"#d8576b\"],[0.6666666666666666,\"#ed7953\"],[0.7777777777777778,\"#fb9f3a\"],[0.8888888888888888,\"#fdca26\"],[1.0,\"#f0f921\"]]},\"colorway\":[\"#636efa\",\"#EF553B\",\"#00cc96\",\"#ab63fa\",\"#FFA15A\",\"#19d3f3\",\"#FF6692\",\"#B6E880\",\"#FF97FF\",\"#FECB52\"],\"font\":{\"color\":\"#2a3f5f\"},\"geo\":{\"bgcolor\":\"white\",\"lakecolor\":\"white\",\"landcolor\":\"#E5ECF6\",\"showlakes\":true,\"showland\":true,\"subunitcolor\":\"white\"},\"hoverlabel\":{\"align\":\"left\"},\"hovermode\":\"closest\",\"mapbox\":{\"style\":\"light\"},\"paper_bgcolor\":\"white\",\"plot_bgcolor\":\"#E5ECF6\",\"polar\":{\"angularaxis\":{\"gridcolor\":\"white\",\"linecolor\":\"white\",\"ticks\":\"\"},\"bgcolor\":\"#E5ECF6\",\"radialaxis\":{\"gridcolor\":\"white\",\"linecolor\":\"white\",\"ticks\":\"\"}},\"scene\":{\"xaxis\":{\"backgroundcolor\":\"#E5ECF6\",\"gridcolor\":\"white\",\"gridwidth\":2,\"linecolor\":\"white\",\"showbackground\":true,\"ticks\":\"\",\"zerolinecolor\":\"white\"},\"yaxis\":{\"backgroundcolor\":\"#E5ECF6\",\"gridcolor\":\"white\",\"gridwidth\":2,\"linecolor\":\"white\",\"showbackground\":true,\"ticks\":\"\",\"zerolinecolor\":\"white\"},\"zaxis\":{\"backgroundcolor\":\"#E5ECF6\",\"gridcolor\":\"white\",\"gridwidth\":2,\"linecolor\":\"white\",\"showbackground\":true,\"ticks\":\"\",\"zerolinecolor\":\"white\"}},\"shapedefaults\":{\"line\":{\"color\":\"#2a3f5f\"}},\"ternary\":{\"aaxis\":{\"gridcolor\":\"white\",\"linecolor\":\"white\",\"ticks\":\"\"},\"baxis\":{\"gridcolor\":\"white\",\"linecolor\":\"white\",\"ticks\":\"\"},\"bgcolor\":\"#E5ECF6\",\"caxis\":{\"gridcolor\":\"white\",\"linecolor\":\"white\",\"ticks\":\"\"}},\"title\":{\"x\":0.05},\"xaxis\":{\"automargin\":true,\"gridcolor\":\"white\",\"linecolor\":\"white\",\"ticks\":\"\",\"title\":{\"standoff\":15},\"zerolinecolor\":\"white\",\"zerolinewidth\":2},\"yaxis\":{\"automargin\":true,\"gridcolor\":\"white\",\"linecolor\":\"white\",\"ticks\":\"\",\"title\":{\"standoff\":15},\"zerolinecolor\":\"white\",\"zerolinewidth\":2}}},\"xaxis\":{\"anchor\":\"y\",\"domain\":[0.0,1.0],\"title\":{\"text\":\"PCA 1\"}},\"yaxis\":{\"anchor\":\"x\",\"domain\":[0.0,1.0],\"title\":{\"text\":\"PCA 2\"}},\"legend\":{\"title\":{\"text\":\"color\"},\"tracegroupgap\":0},\"margin\":{\"t\":60},\"title\":{\"text\":\"Standard PCA analysis of HyPRSeq Data\"}},                        {\"responsive\": true}                    ).then(function(){\n",
       "                            \n",
       "var gd = document.getElementById('97831df7-e7a8-4d86-9b66-a57c3e07eceb');\n",
       "var x = new MutationObserver(function (mutations, observer) {{\n",
       "        var display = window.getComputedStyle(gd).display;\n",
       "        if (!display || display === 'none') {{\n",
       "            console.log([gd, 'removed!']);\n",
       "            Plotly.purge(gd);\n",
       "            observer.disconnect();\n",
       "        }}\n",
       "}});\n",
       "\n",
       "// Listen for the removal of the full notebook cells\n",
       "var notebookContainer = gd.closest('#notebook-container');\n",
       "if (notebookContainer) {{\n",
       "    x.observe(notebookContainer, {childList: true});\n",
       "}}\n",
       "\n",
       "// Listen for the clearing of the current output cell\n",
       "var outputEl = gd.closest('.output');\n",
       "if (outputEl) {{\n",
       "    x.observe(outputEl, {childList: true});\n",
       "}}\n",
       "\n",
       "                        })                };                });            </script>        </div>"
      ]
     },
     "metadata": {},
     "output_type": "display_data"
    },
    {
     "data": {
      "application/vnd.plotly.v1+json": {
       "config": {
        "plotlyServerURL": "https://plot.ly"
       },
       "data": [
        {
         "hovertemplate": "color=NegT4<br>0=%{x}<br>1=%{y}<extra></extra>",
         "legendgroup": "NegT4",
         "marker": {
          "color": "#636efa",
          "symbol": "circle"
         },
         "mode": "markers",
         "name": "NegT4",
         "orientation": "v",
         "showlegend": true,
         "type": "scatter",
         "x": [
          -1574.527908917973,
          -1574.5164638318831,
          -1574.5279089179746,
          -1574.3662288803835
         ],
         "xaxis": "x",
         "y": [
          153.50222445815535,
          153.52907278729066,
          153.50222445815572,
          153.04572150660013
         ],
         "yaxis": "y"
        },
        {
         "hovertemplate": "color=Embryo<br>0=%{x}<br>1=%{y}<extra></extra>",
         "legendgroup": "Embryo",
         "marker": {
          "color": "#EF553B",
          "symbol": "circle"
         },
         "mode": "markers",
         "name": "Embryo",
         "orientation": "v",
         "showlegend": true,
         "type": "scatter",
         "x": [
          3123.0033923115125,
          1372.5202707874107,
          469.0050638358194,
          -256.5561049632291,
          6629.677299110463,
          4775.565345765421
         ],
         "xaxis": "x",
         "y": [
          1433.3551177379927,
          1026.9509238059957,
          756.6913168926887,
          539.8778220023902,
          2641.5013234667967,
          1073.9812167603425
         ],
         "yaxis": "y"
        },
        {
         "hovertemplate": "color=Nih3t3<br>0=%{x}<br>1=%{y}<extra></extra>",
         "legendgroup": "Nih3t3",
         "marker": {
          "color": "#00cc96",
          "symbol": "circle"
         },
         "mode": "markers",
         "name": "Nih3t3",
         "orientation": "v",
         "showlegend": true,
         "type": "scatter",
         "x": [
          2088.9396729720143,
          1409.239087656689,
          808.2334806749378,
          394.7133890778678,
          1043.03888687432,
          1926.7643872955803,
          5781.8647715966945,
          1578.0275490294587,
          176.1852794525342
         ],
         "xaxis": "x",
         "y": [
          -932.4010921772453,
          -2489.841426917321,
          -492.9041566211999,
          -467.51733975650376,
          -957.3691557460054,
          -1459.1473451012193,
          -2272.506289414321,
          -789.8908110685029,
          -450.0754146325676
         ],
         "yaxis": "y"
        },
        {
         "hovertemplate": "color=NegRo<br>0=%{x}<br>1=%{y}<extra></extra>",
         "legendgroup": "NegRo",
         "marker": {
          "color": "#ab63fa",
          "symbol": "circle"
         },
         "mode": "markers",
         "name": "NegRo",
         "orientation": "v",
         "showlegend": true,
         "type": "scatter",
         "x": [
          -1320.5140661026408,
          -1574.5279089179746,
          -1217.008332507449,
          -795.9072067909567
         ],
         "xaxis": "x",
         "y": [
          86.39745718881858,
          153.50222445815572,
          59.392163213993435,
          -76.0402285779333
         ],
         "yaxis": "y"
        },
        {
         "hovertemplate": "color=Negprobe<br>0=%{x}<br>1=%{y}<extra></extra>",
         "legendgroup": "Negprobe",
         "marker": {
          "color": "#FFA15A",
          "symbol": "circle"
         },
         "mode": "markers",
         "name": "Negprobe",
         "orientation": "v",
         "showlegend": true,
         "type": "scatter",
         "x": [
          -1570.2960835794709,
          -1573.673407679944,
          -1562.4313066131485,
          -1573.3128618515861
         ],
         "xaxis": "x",
         "y": [
          152.5762780067065,
          153.45961690440015,
          152.4282865443255,
          153.42780767716224
         ],
         "yaxis": "y"
        },
        {
         "hovertemplate": "color=Spleen<br>0=%{x}<br>1=%{y}<extra></extra>",
         "legendgroup": "Spleen",
         "marker": {
          "color": "#19d3f3",
          "symbol": "circle"
         },
         "mode": "markers",
         "name": "Spleen",
         "orientation": "v",
         "showlegend": true,
         "type": "scatter",
         "x": [
          -1359.7974231614278
         ],
         "xaxis": "x",
         "y": [
          170.86857725947843
         ],
         "yaxis": "y"
        },
        {
         "hovertemplate": "color=NegH1<br>0=%{x}<br>1=%{y}<extra></extra>",
         "legendgroup": "NegH1",
         "marker": {
          "color": "#FF6692",
          "symbol": "circle"
         },
         "mode": "markers",
         "name": "NegH1",
         "orientation": "v",
         "showlegend": true,
         "type": "scatter",
         "x": [
          -1498.804506436468,
          -1573.5115686892434,
          -1541.2258069632699,
          -1563.310725115215
         ],
         "xaxis": "x",
         "y": [
          148.4161313351835,
          153.83559830859159,
          150.37562619001017,
          152.92977147321133
         ],
         "yaxis": "y"
        },
        {
         "hovertemplate": "color=Negall<br>0=%{x}<br>1=%{y}<extra></extra>",
         "legendgroup": "Negall",
         "marker": {
          "color": "#B6E880",
          "symbol": "circle"
         },
         "mode": "markers",
         "name": "Negall",
         "orientation": "v",
         "showlegend": true,
         "type": "scatter",
         "x": [
          -1574.5279089179746,
          -1574.378329766551,
          -1574.5279089179746,
          -1574.5279089179746
         ],
         "xaxis": "x",
         "y": [
          153.50222445815572,
          153.64008420189998,
          153.50222445815572,
          153.5022244581556
         ],
         "yaxis": "y"
        }
       ],
       "layout": {
        "legend": {
         "title": {
          "text": "color"
         },
         "tracegroupgap": 0
        },
        "margin": {
         "t": 60
        },
        "template": {
         "data": {
          "bar": [
           {
            "error_x": {
             "color": "#2a3f5f"
            },
            "error_y": {
             "color": "#2a3f5f"
            },
            "marker": {
             "line": {
              "color": "#E5ECF6",
              "width": 0.5
             },
             "pattern": {
              "fillmode": "overlay",
              "size": 10,
              "solidity": 0.2
             }
            },
            "type": "bar"
           }
          ],
          "barpolar": [
           {
            "marker": {
             "line": {
              "color": "#E5ECF6",
              "width": 0.5
             },
             "pattern": {
              "fillmode": "overlay",
              "size": 10,
              "solidity": 0.2
             }
            },
            "type": "barpolar"
           }
          ],
          "carpet": [
           {
            "aaxis": {
             "endlinecolor": "#2a3f5f",
             "gridcolor": "white",
             "linecolor": "white",
             "minorgridcolor": "white",
             "startlinecolor": "#2a3f5f"
            },
            "baxis": {
             "endlinecolor": "#2a3f5f",
             "gridcolor": "white",
             "linecolor": "white",
             "minorgridcolor": "white",
             "startlinecolor": "#2a3f5f"
            },
            "type": "carpet"
           }
          ],
          "choropleth": [
           {
            "colorbar": {
             "outlinewidth": 0,
             "ticks": ""
            },
            "type": "choropleth"
           }
          ],
          "contour": [
           {
            "colorbar": {
             "outlinewidth": 0,
             "ticks": ""
            },
            "colorscale": [
             [
              0,
              "#0d0887"
             ],
             [
              0.1111111111111111,
              "#46039f"
             ],
             [
              0.2222222222222222,
              "#7201a8"
             ],
             [
              0.3333333333333333,
              "#9c179e"
             ],
             [
              0.4444444444444444,
              "#bd3786"
             ],
             [
              0.5555555555555556,
              "#d8576b"
             ],
             [
              0.6666666666666666,
              "#ed7953"
             ],
             [
              0.7777777777777778,
              "#fb9f3a"
             ],
             [
              0.8888888888888888,
              "#fdca26"
             ],
             [
              1,
              "#f0f921"
             ]
            ],
            "type": "contour"
           }
          ],
          "contourcarpet": [
           {
            "colorbar": {
             "outlinewidth": 0,
             "ticks": ""
            },
            "type": "contourcarpet"
           }
          ],
          "heatmap": [
           {
            "colorbar": {
             "outlinewidth": 0,
             "ticks": ""
            },
            "colorscale": [
             [
              0,
              "#0d0887"
             ],
             [
              0.1111111111111111,
              "#46039f"
             ],
             [
              0.2222222222222222,
              "#7201a8"
             ],
             [
              0.3333333333333333,
              "#9c179e"
             ],
             [
              0.4444444444444444,
              "#bd3786"
             ],
             [
              0.5555555555555556,
              "#d8576b"
             ],
             [
              0.6666666666666666,
              "#ed7953"
             ],
             [
              0.7777777777777778,
              "#fb9f3a"
             ],
             [
              0.8888888888888888,
              "#fdca26"
             ],
             [
              1,
              "#f0f921"
             ]
            ],
            "type": "heatmap"
           }
          ],
          "heatmapgl": [
           {
            "colorbar": {
             "outlinewidth": 0,
             "ticks": ""
            },
            "colorscale": [
             [
              0,
              "#0d0887"
             ],
             [
              0.1111111111111111,
              "#46039f"
             ],
             [
              0.2222222222222222,
              "#7201a8"
             ],
             [
              0.3333333333333333,
              "#9c179e"
             ],
             [
              0.4444444444444444,
              "#bd3786"
             ],
             [
              0.5555555555555556,
              "#d8576b"
             ],
             [
              0.6666666666666666,
              "#ed7953"
             ],
             [
              0.7777777777777778,
              "#fb9f3a"
             ],
             [
              0.8888888888888888,
              "#fdca26"
             ],
             [
              1,
              "#f0f921"
             ]
            ],
            "type": "heatmapgl"
           }
          ],
          "histogram": [
           {
            "marker": {
             "pattern": {
              "fillmode": "overlay",
              "size": 10,
              "solidity": 0.2
             }
            },
            "type": "histogram"
           }
          ],
          "histogram2d": [
           {
            "colorbar": {
             "outlinewidth": 0,
             "ticks": ""
            },
            "colorscale": [
             [
              0,
              "#0d0887"
             ],
             [
              0.1111111111111111,
              "#46039f"
             ],
             [
              0.2222222222222222,
              "#7201a8"
             ],
             [
              0.3333333333333333,
              "#9c179e"
             ],
             [
              0.4444444444444444,
              "#bd3786"
             ],
             [
              0.5555555555555556,
              "#d8576b"
             ],
             [
              0.6666666666666666,
              "#ed7953"
             ],
             [
              0.7777777777777778,
              "#fb9f3a"
             ],
             [
              0.8888888888888888,
              "#fdca26"
             ],
             [
              1,
              "#f0f921"
             ]
            ],
            "type": "histogram2d"
           }
          ],
          "histogram2dcontour": [
           {
            "colorbar": {
             "outlinewidth": 0,
             "ticks": ""
            },
            "colorscale": [
             [
              0,
              "#0d0887"
             ],
             [
              0.1111111111111111,
              "#46039f"
             ],
             [
              0.2222222222222222,
              "#7201a8"
             ],
             [
              0.3333333333333333,
              "#9c179e"
             ],
             [
              0.4444444444444444,
              "#bd3786"
             ],
             [
              0.5555555555555556,
              "#d8576b"
             ],
             [
              0.6666666666666666,
              "#ed7953"
             ],
             [
              0.7777777777777778,
              "#fb9f3a"
             ],
             [
              0.8888888888888888,
              "#fdca26"
             ],
             [
              1,
              "#f0f921"
             ]
            ],
            "type": "histogram2dcontour"
           }
          ],
          "mesh3d": [
           {
            "colorbar": {
             "outlinewidth": 0,
             "ticks": ""
            },
            "type": "mesh3d"
           }
          ],
          "parcoords": [
           {
            "line": {
             "colorbar": {
              "outlinewidth": 0,
              "ticks": ""
             }
            },
            "type": "parcoords"
           }
          ],
          "pie": [
           {
            "automargin": true,
            "type": "pie"
           }
          ],
          "scatter": [
           {
            "marker": {
             "colorbar": {
              "outlinewidth": 0,
              "ticks": ""
             }
            },
            "type": "scatter"
           }
          ],
          "scatter3d": [
           {
            "line": {
             "colorbar": {
              "outlinewidth": 0,
              "ticks": ""
             }
            },
            "marker": {
             "colorbar": {
              "outlinewidth": 0,
              "ticks": ""
             }
            },
            "type": "scatter3d"
           }
          ],
          "scattercarpet": [
           {
            "marker": {
             "colorbar": {
              "outlinewidth": 0,
              "ticks": ""
             }
            },
            "type": "scattercarpet"
           }
          ],
          "scattergeo": [
           {
            "marker": {
             "colorbar": {
              "outlinewidth": 0,
              "ticks": ""
             }
            },
            "type": "scattergeo"
           }
          ],
          "scattergl": [
           {
            "marker": {
             "colorbar": {
              "outlinewidth": 0,
              "ticks": ""
             }
            },
            "type": "scattergl"
           }
          ],
          "scattermapbox": [
           {
            "marker": {
             "colorbar": {
              "outlinewidth": 0,
              "ticks": ""
             }
            },
            "type": "scattermapbox"
           }
          ],
          "scatterpolar": [
           {
            "marker": {
             "colorbar": {
              "outlinewidth": 0,
              "ticks": ""
             }
            },
            "type": "scatterpolar"
           }
          ],
          "scatterpolargl": [
           {
            "marker": {
             "colorbar": {
              "outlinewidth": 0,
              "ticks": ""
             }
            },
            "type": "scatterpolargl"
           }
          ],
          "scatterternary": [
           {
            "marker": {
             "colorbar": {
              "outlinewidth": 0,
              "ticks": ""
             }
            },
            "type": "scatterternary"
           }
          ],
          "surface": [
           {
            "colorbar": {
             "outlinewidth": 0,
             "ticks": ""
            },
            "colorscale": [
             [
              0,
              "#0d0887"
             ],
             [
              0.1111111111111111,
              "#46039f"
             ],
             [
              0.2222222222222222,
              "#7201a8"
             ],
             [
              0.3333333333333333,
              "#9c179e"
             ],
             [
              0.4444444444444444,
              "#bd3786"
             ],
             [
              0.5555555555555556,
              "#d8576b"
             ],
             [
              0.6666666666666666,
              "#ed7953"
             ],
             [
              0.7777777777777778,
              "#fb9f3a"
             ],
             [
              0.8888888888888888,
              "#fdca26"
             ],
             [
              1,
              "#f0f921"
             ]
            ],
            "type": "surface"
           }
          ],
          "table": [
           {
            "cells": {
             "fill": {
              "color": "#EBF0F8"
             },
             "line": {
              "color": "white"
             }
            },
            "header": {
             "fill": {
              "color": "#C8D4E3"
             },
             "line": {
              "color": "white"
             }
            },
            "type": "table"
           }
          ]
         },
         "layout": {
          "annotationdefaults": {
           "arrowcolor": "#2a3f5f",
           "arrowhead": 0,
           "arrowwidth": 1
          },
          "autotypenumbers": "strict",
          "coloraxis": {
           "colorbar": {
            "outlinewidth": 0,
            "ticks": ""
           }
          },
          "colorscale": {
           "diverging": [
            [
             0,
             "#8e0152"
            ],
            [
             0.1,
             "#c51b7d"
            ],
            [
             0.2,
             "#de77ae"
            ],
            [
             0.3,
             "#f1b6da"
            ],
            [
             0.4,
             "#fde0ef"
            ],
            [
             0.5,
             "#f7f7f7"
            ],
            [
             0.6,
             "#e6f5d0"
            ],
            [
             0.7,
             "#b8e186"
            ],
            [
             0.8,
             "#7fbc41"
            ],
            [
             0.9,
             "#4d9221"
            ],
            [
             1,
             "#276419"
            ]
           ],
           "sequential": [
            [
             0,
             "#0d0887"
            ],
            [
             0.1111111111111111,
             "#46039f"
            ],
            [
             0.2222222222222222,
             "#7201a8"
            ],
            [
             0.3333333333333333,
             "#9c179e"
            ],
            [
             0.4444444444444444,
             "#bd3786"
            ],
            [
             0.5555555555555556,
             "#d8576b"
            ],
            [
             0.6666666666666666,
             "#ed7953"
            ],
            [
             0.7777777777777778,
             "#fb9f3a"
            ],
            [
             0.8888888888888888,
             "#fdca26"
            ],
            [
             1,
             "#f0f921"
            ]
           ],
           "sequentialminus": [
            [
             0,
             "#0d0887"
            ],
            [
             0.1111111111111111,
             "#46039f"
            ],
            [
             0.2222222222222222,
             "#7201a8"
            ],
            [
             0.3333333333333333,
             "#9c179e"
            ],
            [
             0.4444444444444444,
             "#bd3786"
            ],
            [
             0.5555555555555556,
             "#d8576b"
            ],
            [
             0.6666666666666666,
             "#ed7953"
            ],
            [
             0.7777777777777778,
             "#fb9f3a"
            ],
            [
             0.8888888888888888,
             "#fdca26"
            ],
            [
             1,
             "#f0f921"
            ]
           ]
          },
          "colorway": [
           "#636efa",
           "#EF553B",
           "#00cc96",
           "#ab63fa",
           "#FFA15A",
           "#19d3f3",
           "#FF6692",
           "#B6E880",
           "#FF97FF",
           "#FECB52"
          ],
          "font": {
           "color": "#2a3f5f"
          },
          "geo": {
           "bgcolor": "white",
           "lakecolor": "white",
           "landcolor": "#E5ECF6",
           "showlakes": true,
           "showland": true,
           "subunitcolor": "white"
          },
          "hoverlabel": {
           "align": "left"
          },
          "hovermode": "closest",
          "mapbox": {
           "style": "light"
          },
          "paper_bgcolor": "white",
          "plot_bgcolor": "#E5ECF6",
          "polar": {
           "angularaxis": {
            "gridcolor": "white",
            "linecolor": "white",
            "ticks": ""
           },
           "bgcolor": "#E5ECF6",
           "radialaxis": {
            "gridcolor": "white",
            "linecolor": "white",
            "ticks": ""
           }
          },
          "scene": {
           "xaxis": {
            "backgroundcolor": "#E5ECF6",
            "gridcolor": "white",
            "gridwidth": 2,
            "linecolor": "white",
            "showbackground": true,
            "ticks": "",
            "zerolinecolor": "white"
           },
           "yaxis": {
            "backgroundcolor": "#E5ECF6",
            "gridcolor": "white",
            "gridwidth": 2,
            "linecolor": "white",
            "showbackground": true,
            "ticks": "",
            "zerolinecolor": "white"
           },
           "zaxis": {
            "backgroundcolor": "#E5ECF6",
            "gridcolor": "white",
            "gridwidth": 2,
            "linecolor": "white",
            "showbackground": true,
            "ticks": "",
            "zerolinecolor": "white"
           }
          },
          "shapedefaults": {
           "line": {
            "color": "#2a3f5f"
           }
          },
          "ternary": {
           "aaxis": {
            "gridcolor": "white",
            "linecolor": "white",
            "ticks": ""
           },
           "baxis": {
            "gridcolor": "white",
            "linecolor": "white",
            "ticks": ""
           },
           "bgcolor": "#E5ECF6",
           "caxis": {
            "gridcolor": "white",
            "linecolor": "white",
            "ticks": ""
           }
          },
          "title": {
           "x": 0.05
          },
          "xaxis": {
           "automargin": true,
           "gridcolor": "white",
           "linecolor": "white",
           "ticks": "",
           "title": {
            "standoff": 15
           },
           "zerolinecolor": "white",
           "zerolinewidth": 2
          },
          "yaxis": {
           "automargin": true,
           "gridcolor": "white",
           "linecolor": "white",
           "ticks": "",
           "title": {
            "standoff": 15
           },
           "zerolinecolor": "white",
           "zerolinewidth": 2
          }
         }
        },
        "title": {
         "text": "Logarithmic PCA analysis of HyPRSeq Data"
        },
        "xaxis": {
         "anchor": "y",
         "domain": [
          0,
          1
         ],
         "title": {
          "text": "PCA 1"
         }
        },
        "yaxis": {
         "anchor": "x",
         "domain": [
          0,
          1
         ],
         "title": {
          "text": "PCA 2"
         },
         "type": "log"
        }
       }
      },
      "text/html": [
       "<div>                            <div id=\"47344d36-7e61-4f68-b9f7-66aa0a63fe6e\" class=\"plotly-graph-div\" style=\"height:525px; width:100%;\"></div>            <script type=\"text/javascript\">                require([\"plotly\"], function(Plotly) {                    window.PLOTLYENV=window.PLOTLYENV || {};                                    if (document.getElementById(\"47344d36-7e61-4f68-b9f7-66aa0a63fe6e\")) {                    Plotly.newPlot(                        \"47344d36-7e61-4f68-b9f7-66aa0a63fe6e\",                        [{\"hovertemplate\":\"color=NegT4<br>0=%{x}<br>1=%{y}<extra></extra>\",\"legendgroup\":\"NegT4\",\"marker\":{\"color\":\"#636efa\",\"symbol\":\"circle\"},\"mode\":\"markers\",\"name\":\"NegT4\",\"orientation\":\"v\",\"showlegend\":true,\"x\":[-1574.527908917973,-1574.5164638318831,-1574.5279089179746,-1574.3662288803835],\"xaxis\":\"x\",\"y\":[153.50222445815535,153.52907278729066,153.50222445815572,153.04572150660013],\"yaxis\":\"y\",\"type\":\"scatter\"},{\"hovertemplate\":\"color=Embryo<br>0=%{x}<br>1=%{y}<extra></extra>\",\"legendgroup\":\"Embryo\",\"marker\":{\"color\":\"#EF553B\",\"symbol\":\"circle\"},\"mode\":\"markers\",\"name\":\"Embryo\",\"orientation\":\"v\",\"showlegend\":true,\"x\":[3123.0033923115125,1372.5202707874107,469.0050638358194,-256.5561049632291,6629.677299110463,4775.565345765421],\"xaxis\":\"x\",\"y\":[1433.3551177379927,1026.9509238059957,756.6913168926887,539.8778220023902,2641.5013234667967,1073.9812167603425],\"yaxis\":\"y\",\"type\":\"scatter\"},{\"hovertemplate\":\"color=Nih3t3<br>0=%{x}<br>1=%{y}<extra></extra>\",\"legendgroup\":\"Nih3t3\",\"marker\":{\"color\":\"#00cc96\",\"symbol\":\"circle\"},\"mode\":\"markers\",\"name\":\"Nih3t3\",\"orientation\":\"v\",\"showlegend\":true,\"x\":[2088.9396729720143,1409.239087656689,808.2334806749378,394.7133890778678,1043.03888687432,1926.7643872955803,5781.8647715966945,1578.0275490294587,176.1852794525342],\"xaxis\":\"x\",\"y\":[-932.4010921772453,-2489.841426917321,-492.9041566211999,-467.51733975650376,-957.3691557460054,-1459.1473451012193,-2272.506289414321,-789.8908110685029,-450.0754146325676],\"yaxis\":\"y\",\"type\":\"scatter\"},{\"hovertemplate\":\"color=NegRo<br>0=%{x}<br>1=%{y}<extra></extra>\",\"legendgroup\":\"NegRo\",\"marker\":{\"color\":\"#ab63fa\",\"symbol\":\"circle\"},\"mode\":\"markers\",\"name\":\"NegRo\",\"orientation\":\"v\",\"showlegend\":true,\"x\":[-1320.5140661026408,-1574.5279089179746,-1217.008332507449,-795.9072067909567],\"xaxis\":\"x\",\"y\":[86.39745718881858,153.50222445815572,59.392163213993435,-76.0402285779333],\"yaxis\":\"y\",\"type\":\"scatter\"},{\"hovertemplate\":\"color=Negprobe<br>0=%{x}<br>1=%{y}<extra></extra>\",\"legendgroup\":\"Negprobe\",\"marker\":{\"color\":\"#FFA15A\",\"symbol\":\"circle\"},\"mode\":\"markers\",\"name\":\"Negprobe\",\"orientation\":\"v\",\"showlegend\":true,\"x\":[-1570.2960835794709,-1573.673407679944,-1562.4313066131485,-1573.3128618515861],\"xaxis\":\"x\",\"y\":[152.5762780067065,153.45961690440015,152.4282865443255,153.42780767716224],\"yaxis\":\"y\",\"type\":\"scatter\"},{\"hovertemplate\":\"color=Spleen<br>0=%{x}<br>1=%{y}<extra></extra>\",\"legendgroup\":\"Spleen\",\"marker\":{\"color\":\"#19d3f3\",\"symbol\":\"circle\"},\"mode\":\"markers\",\"name\":\"Spleen\",\"orientation\":\"v\",\"showlegend\":true,\"x\":[-1359.7974231614278],\"xaxis\":\"x\",\"y\":[170.86857725947843],\"yaxis\":\"y\",\"type\":\"scatter\"},{\"hovertemplate\":\"color=NegH1<br>0=%{x}<br>1=%{y}<extra></extra>\",\"legendgroup\":\"NegH1\",\"marker\":{\"color\":\"#FF6692\",\"symbol\":\"circle\"},\"mode\":\"markers\",\"name\":\"NegH1\",\"orientation\":\"v\",\"showlegend\":true,\"x\":[-1498.804506436468,-1573.5115686892434,-1541.2258069632699,-1563.310725115215],\"xaxis\":\"x\",\"y\":[148.4161313351835,153.83559830859159,150.37562619001017,152.92977147321133],\"yaxis\":\"y\",\"type\":\"scatter\"},{\"hovertemplate\":\"color=Negall<br>0=%{x}<br>1=%{y}<extra></extra>\",\"legendgroup\":\"Negall\",\"marker\":{\"color\":\"#B6E880\",\"symbol\":\"circle\"},\"mode\":\"markers\",\"name\":\"Negall\",\"orientation\":\"v\",\"showlegend\":true,\"x\":[-1574.5279089179746,-1574.378329766551,-1574.5279089179746,-1574.5279089179746],\"xaxis\":\"x\",\"y\":[153.50222445815572,153.64008420189998,153.50222445815572,153.5022244581556],\"yaxis\":\"y\",\"type\":\"scatter\"}],                        {\"template\":{\"data\":{\"bar\":[{\"error_x\":{\"color\":\"#2a3f5f\"},\"error_y\":{\"color\":\"#2a3f5f\"},\"marker\":{\"line\":{\"color\":\"#E5ECF6\",\"width\":0.5},\"pattern\":{\"fillmode\":\"overlay\",\"size\":10,\"solidity\":0.2}},\"type\":\"bar\"}],\"barpolar\":[{\"marker\":{\"line\":{\"color\":\"#E5ECF6\",\"width\":0.5},\"pattern\":{\"fillmode\":\"overlay\",\"size\":10,\"solidity\":0.2}},\"type\":\"barpolar\"}],\"carpet\":[{\"aaxis\":{\"endlinecolor\":\"#2a3f5f\",\"gridcolor\":\"white\",\"linecolor\":\"white\",\"minorgridcolor\":\"white\",\"startlinecolor\":\"#2a3f5f\"},\"baxis\":{\"endlinecolor\":\"#2a3f5f\",\"gridcolor\":\"white\",\"linecolor\":\"white\",\"minorgridcolor\":\"white\",\"startlinecolor\":\"#2a3f5f\"},\"type\":\"carpet\"}],\"choropleth\":[{\"colorbar\":{\"outlinewidth\":0,\"ticks\":\"\"},\"type\":\"choropleth\"}],\"contour\":[{\"colorbar\":{\"outlinewidth\":0,\"ticks\":\"\"},\"colorscale\":[[0.0,\"#0d0887\"],[0.1111111111111111,\"#46039f\"],[0.2222222222222222,\"#7201a8\"],[0.3333333333333333,\"#9c179e\"],[0.4444444444444444,\"#bd3786\"],[0.5555555555555556,\"#d8576b\"],[0.6666666666666666,\"#ed7953\"],[0.7777777777777778,\"#fb9f3a\"],[0.8888888888888888,\"#fdca26\"],[1.0,\"#f0f921\"]],\"type\":\"contour\"}],\"contourcarpet\":[{\"colorbar\":{\"outlinewidth\":0,\"ticks\":\"\"},\"type\":\"contourcarpet\"}],\"heatmap\":[{\"colorbar\":{\"outlinewidth\":0,\"ticks\":\"\"},\"colorscale\":[[0.0,\"#0d0887\"],[0.1111111111111111,\"#46039f\"],[0.2222222222222222,\"#7201a8\"],[0.3333333333333333,\"#9c179e\"],[0.4444444444444444,\"#bd3786\"],[0.5555555555555556,\"#d8576b\"],[0.6666666666666666,\"#ed7953\"],[0.7777777777777778,\"#fb9f3a\"],[0.8888888888888888,\"#fdca26\"],[1.0,\"#f0f921\"]],\"type\":\"heatmap\"}],\"heatmapgl\":[{\"colorbar\":{\"outlinewidth\":0,\"ticks\":\"\"},\"colorscale\":[[0.0,\"#0d0887\"],[0.1111111111111111,\"#46039f\"],[0.2222222222222222,\"#7201a8\"],[0.3333333333333333,\"#9c179e\"],[0.4444444444444444,\"#bd3786\"],[0.5555555555555556,\"#d8576b\"],[0.6666666666666666,\"#ed7953\"],[0.7777777777777778,\"#fb9f3a\"],[0.8888888888888888,\"#fdca26\"],[1.0,\"#f0f921\"]],\"type\":\"heatmapgl\"}],\"histogram\":[{\"marker\":{\"pattern\":{\"fillmode\":\"overlay\",\"size\":10,\"solidity\":0.2}},\"type\":\"histogram\"}],\"histogram2d\":[{\"colorbar\":{\"outlinewidth\":0,\"ticks\":\"\"},\"colorscale\":[[0.0,\"#0d0887\"],[0.1111111111111111,\"#46039f\"],[0.2222222222222222,\"#7201a8\"],[0.3333333333333333,\"#9c179e\"],[0.4444444444444444,\"#bd3786\"],[0.5555555555555556,\"#d8576b\"],[0.6666666666666666,\"#ed7953\"],[0.7777777777777778,\"#fb9f3a\"],[0.8888888888888888,\"#fdca26\"],[1.0,\"#f0f921\"]],\"type\":\"histogram2d\"}],\"histogram2dcontour\":[{\"colorbar\":{\"outlinewidth\":0,\"ticks\":\"\"},\"colorscale\":[[0.0,\"#0d0887\"],[0.1111111111111111,\"#46039f\"],[0.2222222222222222,\"#7201a8\"],[0.3333333333333333,\"#9c179e\"],[0.4444444444444444,\"#bd3786\"],[0.5555555555555556,\"#d8576b\"],[0.6666666666666666,\"#ed7953\"],[0.7777777777777778,\"#fb9f3a\"],[0.8888888888888888,\"#fdca26\"],[1.0,\"#f0f921\"]],\"type\":\"histogram2dcontour\"}],\"mesh3d\":[{\"colorbar\":{\"outlinewidth\":0,\"ticks\":\"\"},\"type\":\"mesh3d\"}],\"parcoords\":[{\"line\":{\"colorbar\":{\"outlinewidth\":0,\"ticks\":\"\"}},\"type\":\"parcoords\"}],\"pie\":[{\"automargin\":true,\"type\":\"pie\"}],\"scatter\":[{\"marker\":{\"colorbar\":{\"outlinewidth\":0,\"ticks\":\"\"}},\"type\":\"scatter\"}],\"scatter3d\":[{\"line\":{\"colorbar\":{\"outlinewidth\":0,\"ticks\":\"\"}},\"marker\":{\"colorbar\":{\"outlinewidth\":0,\"ticks\":\"\"}},\"type\":\"scatter3d\"}],\"scattercarpet\":[{\"marker\":{\"colorbar\":{\"outlinewidth\":0,\"ticks\":\"\"}},\"type\":\"scattercarpet\"}],\"scattergeo\":[{\"marker\":{\"colorbar\":{\"outlinewidth\":0,\"ticks\":\"\"}},\"type\":\"scattergeo\"}],\"scattergl\":[{\"marker\":{\"colorbar\":{\"outlinewidth\":0,\"ticks\":\"\"}},\"type\":\"scattergl\"}],\"scattermapbox\":[{\"marker\":{\"colorbar\":{\"outlinewidth\":0,\"ticks\":\"\"}},\"type\":\"scattermapbox\"}],\"scatterpolar\":[{\"marker\":{\"colorbar\":{\"outlinewidth\":0,\"ticks\":\"\"}},\"type\":\"scatterpolar\"}],\"scatterpolargl\":[{\"marker\":{\"colorbar\":{\"outlinewidth\":0,\"ticks\":\"\"}},\"type\":\"scatterpolargl\"}],\"scatterternary\":[{\"marker\":{\"colorbar\":{\"outlinewidth\":0,\"ticks\":\"\"}},\"type\":\"scatterternary\"}],\"surface\":[{\"colorbar\":{\"outlinewidth\":0,\"ticks\":\"\"},\"colorscale\":[[0.0,\"#0d0887\"],[0.1111111111111111,\"#46039f\"],[0.2222222222222222,\"#7201a8\"],[0.3333333333333333,\"#9c179e\"],[0.4444444444444444,\"#bd3786\"],[0.5555555555555556,\"#d8576b\"],[0.6666666666666666,\"#ed7953\"],[0.7777777777777778,\"#fb9f3a\"],[0.8888888888888888,\"#fdca26\"],[1.0,\"#f0f921\"]],\"type\":\"surface\"}],\"table\":[{\"cells\":{\"fill\":{\"color\":\"#EBF0F8\"},\"line\":{\"color\":\"white\"}},\"header\":{\"fill\":{\"color\":\"#C8D4E3\"},\"line\":{\"color\":\"white\"}},\"type\":\"table\"}]},\"layout\":{\"annotationdefaults\":{\"arrowcolor\":\"#2a3f5f\",\"arrowhead\":0,\"arrowwidth\":1},\"autotypenumbers\":\"strict\",\"coloraxis\":{\"colorbar\":{\"outlinewidth\":0,\"ticks\":\"\"}},\"colorscale\":{\"diverging\":[[0,\"#8e0152\"],[0.1,\"#c51b7d\"],[0.2,\"#de77ae\"],[0.3,\"#f1b6da\"],[0.4,\"#fde0ef\"],[0.5,\"#f7f7f7\"],[0.6,\"#e6f5d0\"],[0.7,\"#b8e186\"],[0.8,\"#7fbc41\"],[0.9,\"#4d9221\"],[1,\"#276419\"]],\"sequential\":[[0.0,\"#0d0887\"],[0.1111111111111111,\"#46039f\"],[0.2222222222222222,\"#7201a8\"],[0.3333333333333333,\"#9c179e\"],[0.4444444444444444,\"#bd3786\"],[0.5555555555555556,\"#d8576b\"],[0.6666666666666666,\"#ed7953\"],[0.7777777777777778,\"#fb9f3a\"],[0.8888888888888888,\"#fdca26\"],[1.0,\"#f0f921\"]],\"sequentialminus\":[[0.0,\"#0d0887\"],[0.1111111111111111,\"#46039f\"],[0.2222222222222222,\"#7201a8\"],[0.3333333333333333,\"#9c179e\"],[0.4444444444444444,\"#bd3786\"],[0.5555555555555556,\"#d8576b\"],[0.6666666666666666,\"#ed7953\"],[0.7777777777777778,\"#fb9f3a\"],[0.8888888888888888,\"#fdca26\"],[1.0,\"#f0f921\"]]},\"colorway\":[\"#636efa\",\"#EF553B\",\"#00cc96\",\"#ab63fa\",\"#FFA15A\",\"#19d3f3\",\"#FF6692\",\"#B6E880\",\"#FF97FF\",\"#FECB52\"],\"font\":{\"color\":\"#2a3f5f\"},\"geo\":{\"bgcolor\":\"white\",\"lakecolor\":\"white\",\"landcolor\":\"#E5ECF6\",\"showlakes\":true,\"showland\":true,\"subunitcolor\":\"white\"},\"hoverlabel\":{\"align\":\"left\"},\"hovermode\":\"closest\",\"mapbox\":{\"style\":\"light\"},\"paper_bgcolor\":\"white\",\"plot_bgcolor\":\"#E5ECF6\",\"polar\":{\"angularaxis\":{\"gridcolor\":\"white\",\"linecolor\":\"white\",\"ticks\":\"\"},\"bgcolor\":\"#E5ECF6\",\"radialaxis\":{\"gridcolor\":\"white\",\"linecolor\":\"white\",\"ticks\":\"\"}},\"scene\":{\"xaxis\":{\"backgroundcolor\":\"#E5ECF6\",\"gridcolor\":\"white\",\"gridwidth\":2,\"linecolor\":\"white\",\"showbackground\":true,\"ticks\":\"\",\"zerolinecolor\":\"white\"},\"yaxis\":{\"backgroundcolor\":\"#E5ECF6\",\"gridcolor\":\"white\",\"gridwidth\":2,\"linecolor\":\"white\",\"showbackground\":true,\"ticks\":\"\",\"zerolinecolor\":\"white\"},\"zaxis\":{\"backgroundcolor\":\"#E5ECF6\",\"gridcolor\":\"white\",\"gridwidth\":2,\"linecolor\":\"white\",\"showbackground\":true,\"ticks\":\"\",\"zerolinecolor\":\"white\"}},\"shapedefaults\":{\"line\":{\"color\":\"#2a3f5f\"}},\"ternary\":{\"aaxis\":{\"gridcolor\":\"white\",\"linecolor\":\"white\",\"ticks\":\"\"},\"baxis\":{\"gridcolor\":\"white\",\"linecolor\":\"white\",\"ticks\":\"\"},\"bgcolor\":\"#E5ECF6\",\"caxis\":{\"gridcolor\":\"white\",\"linecolor\":\"white\",\"ticks\":\"\"}},\"title\":{\"x\":0.05},\"xaxis\":{\"automargin\":true,\"gridcolor\":\"white\",\"linecolor\":\"white\",\"ticks\":\"\",\"title\":{\"standoff\":15},\"zerolinecolor\":\"white\",\"zerolinewidth\":2},\"yaxis\":{\"automargin\":true,\"gridcolor\":\"white\",\"linecolor\":\"white\",\"ticks\":\"\",\"title\":{\"standoff\":15},\"zerolinecolor\":\"white\",\"zerolinewidth\":2}}},\"xaxis\":{\"anchor\":\"y\",\"domain\":[0.0,1.0],\"title\":{\"text\":\"PCA 1\"}},\"yaxis\":{\"anchor\":\"x\",\"domain\":[0.0,1.0],\"title\":{\"text\":\"PCA 2\"},\"type\":\"log\"},\"legend\":{\"title\":{\"text\":\"color\"},\"tracegroupgap\":0},\"margin\":{\"t\":60},\"title\":{\"text\":\"Logarithmic PCA analysis of HyPRSeq Data\"}},                        {\"responsive\": true}                    ).then(function(){\n",
       "                            \n",
       "var gd = document.getElementById('47344d36-7e61-4f68-b9f7-66aa0a63fe6e');\n",
       "var x = new MutationObserver(function (mutations, observer) {{\n",
       "        var display = window.getComputedStyle(gd).display;\n",
       "        if (!display || display === 'none') {{\n",
       "            console.log([gd, 'removed!']);\n",
       "            Plotly.purge(gd);\n",
       "            observer.disconnect();\n",
       "        }}\n",
       "}});\n",
       "\n",
       "// Listen for the removal of the full notebook cells\n",
       "var notebookContainer = gd.closest('#notebook-container');\n",
       "if (notebookContainer) {{\n",
       "    x.observe(notebookContainer, {childList: true});\n",
       "}}\n",
       "\n",
       "// Listen for the clearing of the current output cell\n",
       "var outputEl = gd.closest('.output');\n",
       "if (outputEl) {{\n",
       "    x.observe(outputEl, {childList: true});\n",
       "}}\n",
       "\n",
       "                        })                };                });            </script>        </div>"
      ]
     },
     "metadata": {},
     "output_type": "display_data"
    },
    {
     "data": {
      "application/vnd.plotly.v1+json": {
       "config": {
        "plotlyServerURL": "https://plot.ly"
       },
       "data": [
        {
         "hovertemplate": "color=NegT4<br>PCA 1=%{x}<br>PCA 2=%{y}<br>PCA 3=%{z}<extra></extra>",
         "legendgroup": "NegT4",
         "marker": {
          "color": "#636efa",
          "symbol": "circle"
         },
         "mode": "markers",
         "name": "NegT4",
         "scene": "scene",
         "showlegend": true,
         "type": "scatter3d",
         "x": [
          -1574.527908917973,
          -1574.5164638318831,
          -1574.5279089179746,
          -1574.3662288803835
         ],
         "y": [
          153.50222445815535,
          153.52907278729066,
          153.50222445815572,
          153.04572150660013
         ],
         "z": [
          -1.335003862906306,
          -1.3161874922907235,
          -1.3350038629059053,
          -1.2191883370225722
         ]
        },
        {
         "hovertemplate": "color=Embryo<br>PCA 1=%{x}<br>PCA 2=%{y}<br>PCA 3=%{z}<extra></extra>",
         "legendgroup": "Embryo",
         "marker": {
          "color": "#EF553B",
          "symbol": "circle"
         },
         "mode": "markers",
         "name": "Embryo",
         "scene": "scene",
         "showlegend": true,
         "type": "scatter3d",
         "x": [
          3123.0033923115125,
          1372.5202707874107,
          469.0050638358194,
          -256.5561049632291,
          6629.677299110463,
          4775.565345765421
         ],
         "y": [
          1433.3551177379927,
          1026.9509238059957,
          756.6913168926887,
          539.8778220023902,
          2641.5013234667967,
          1073.9812167603425
         ],
         "z": [
          14.490470624861208,
          -102.45350158892089,
          5.347800645137114,
          -107.57494332064775,
          208.08798414970497,
          611.4721961850428
         ]
        },
        {
         "hovertemplate": "color=Nih3t3<br>PCA 1=%{x}<br>PCA 2=%{y}<br>PCA 3=%{z}<extra></extra>",
         "legendgroup": "Nih3t3",
         "marker": {
          "color": "#00cc96",
          "symbol": "circle"
         },
         "mode": "markers",
         "name": "Nih3t3",
         "scene": "scene",
         "showlegend": true,
         "type": "scatter3d",
         "x": [
          2088.9396729720143,
          1409.239087656689,
          808.2334806749378,
          394.7133890778678,
          1043.03888687432,
          1926.7643872955803,
          5781.8647715966945,
          1578.0275490294587,
          176.1852794525342
         ],
         "y": [
          -932.4010921772453,
          -2489.841426917321,
          -492.9041566211999,
          -467.51733975650376,
          -957.3691557460054,
          -1459.1473451012193,
          -2272.506289414321,
          -789.8908110685029,
          -450.0754146325676
         ],
         "z": [
          -218.1809347139789,
          1670.3397471624216,
          -295.0516398175705,
          -177.19551978868068,
          -244.83795093636962,
          -191.33682927065496,
          -954.128200723597,
          61.16136505946407,
          -73.79445987737085
         ]
        },
        {
         "hovertemplate": "color=NegRo<br>PCA 1=%{x}<br>PCA 2=%{y}<br>PCA 3=%{z}<extra></extra>",
         "legendgroup": "NegRo",
         "marker": {
          "color": "#ab63fa",
          "symbol": "circle"
         },
         "mode": "markers",
         "name": "NegRo",
         "scene": "scene",
         "showlegend": true,
         "type": "scatter3d",
         "x": [
          -1320.5140661026408,
          -1574.5279089179746,
          -1217.008332507449,
          -795.9072067909567
         ],
         "y": [
          86.39745718881858,
          153.50222445815572,
          59.392163213993435,
          -76.0402285779333
         ],
         "z": [
          -25.353815414726125,
          -1.3350038629059053,
          -35.67827645549548,
          -84.98975121788352
         ]
        },
        {
         "hovertemplate": "color=Negprobe<br>PCA 1=%{x}<br>PCA 2=%{y}<br>PCA 3=%{z}<extra></extra>",
         "legendgroup": "Negprobe",
         "marker": {
          "color": "#FFA15A",
          "symbol": "circle"
         },
         "mode": "markers",
         "name": "Negprobe",
         "scene": "scene",
         "showlegend": true,
         "type": "scatter3d",
         "x": [
          -1570.2960835794709,
          -1573.673407679944,
          -1562.4313066131485,
          -1573.3128618515861
         ],
         "y": [
          152.5762780067065,
          153.45961690440015,
          152.4282865443255,
          153.42780767716224
         ],
         "z": [
          -1.6536975986272116,
          -1.0491996465301188,
          -0.9165272667099807,
          -1.953834125740551
         ]
        },
        {
         "hovertemplate": "color=Spleen<br>PCA 1=%{x}<br>PCA 2=%{y}<br>PCA 3=%{z}<extra></extra>",
         "legendgroup": "Spleen",
         "marker": {
          "color": "#19d3f3",
          "symbol": "circle"
         },
         "mode": "markers",
         "name": "Spleen",
         "scene": "scene",
         "showlegend": true,
         "type": "scatter3d",
         "x": [
          -1359.7974231614278
         ],
         "y": [
          170.86857725947843
         ],
         "z": [
          -25.578104796097044
         ]
        },
        {
         "hovertemplate": "color=NegH1<br>PCA 1=%{x}<br>PCA 2=%{y}<br>PCA 3=%{z}<extra></extra>",
         "legendgroup": "NegH1",
         "marker": {
          "color": "#FF6692",
          "symbol": "circle"
         },
         "mode": "markers",
         "name": "NegH1",
         "scene": "scene",
         "showlegend": true,
         "type": "scatter3d",
         "x": [
          -1498.804506436468,
          -1573.5115686892434,
          -1541.2258069632699,
          -1563.310725115215
         ],
         "y": [
          148.4161313351835,
          153.83559830859159,
          150.37562619001017,
          152.92977147321133
         ],
         "z": [
          -11.347892698621601,
          -1.8972245485011299,
          -4.209186190723821,
          0.09098714419362189
         ]
        },
        {
         "hovertemplate": "color=Negall<br>PCA 1=%{x}<br>PCA 2=%{y}<br>PCA 3=%{z}<extra></extra>",
         "legendgroup": "Negall",
         "marker": {
          "color": "#B6E880",
          "symbol": "circle"
         },
         "mode": "markers",
         "name": "Negall",
         "scene": "scene",
         "showlegend": true,
         "type": "scatter3d",
         "x": [
          -1574.5279089179746,
          -1574.378329766551,
          -1574.5279089179746,
          -1574.5279089179746
         ],
         "y": [
          153.50222445815572,
          153.64008420189998,
          153.50222445815572,
          153.5022244581556
         ],
         "z": [
          -1.3350038629059053,
          -1.2636619666216498,
          -1.3350038629059053,
          -1.335003862905947
         ]
        }
       ],
       "layout": {
        "legend": {
         "title": {
          "text": "color"
         },
         "tracegroupgap": 0
        },
        "scene": {
         "domain": {
          "x": [
           0,
           1
          ],
          "y": [
           0,
           1
          ]
         },
         "xaxis": {
          "title": {
           "text": "PCA 1"
          }
         },
         "yaxis": {
          "title": {
           "text": "PCA 2"
          }
         },
         "zaxis": {
          "title": {
           "text": "PCA 3"
          }
         }
        },
        "template": {
         "data": {
          "bar": [
           {
            "error_x": {
             "color": "#2a3f5f"
            },
            "error_y": {
             "color": "#2a3f5f"
            },
            "marker": {
             "line": {
              "color": "#E5ECF6",
              "width": 0.5
             },
             "pattern": {
              "fillmode": "overlay",
              "size": 10,
              "solidity": 0.2
             }
            },
            "type": "bar"
           }
          ],
          "barpolar": [
           {
            "marker": {
             "line": {
              "color": "#E5ECF6",
              "width": 0.5
             },
             "pattern": {
              "fillmode": "overlay",
              "size": 10,
              "solidity": 0.2
             }
            },
            "type": "barpolar"
           }
          ],
          "carpet": [
           {
            "aaxis": {
             "endlinecolor": "#2a3f5f",
             "gridcolor": "white",
             "linecolor": "white",
             "minorgridcolor": "white",
             "startlinecolor": "#2a3f5f"
            },
            "baxis": {
             "endlinecolor": "#2a3f5f",
             "gridcolor": "white",
             "linecolor": "white",
             "minorgridcolor": "white",
             "startlinecolor": "#2a3f5f"
            },
            "type": "carpet"
           }
          ],
          "choropleth": [
           {
            "colorbar": {
             "outlinewidth": 0,
             "ticks": ""
            },
            "type": "choropleth"
           }
          ],
          "contour": [
           {
            "colorbar": {
             "outlinewidth": 0,
             "ticks": ""
            },
            "colorscale": [
             [
              0,
              "#0d0887"
             ],
             [
              0.1111111111111111,
              "#46039f"
             ],
             [
              0.2222222222222222,
              "#7201a8"
             ],
             [
              0.3333333333333333,
              "#9c179e"
             ],
             [
              0.4444444444444444,
              "#bd3786"
             ],
             [
              0.5555555555555556,
              "#d8576b"
             ],
             [
              0.6666666666666666,
              "#ed7953"
             ],
             [
              0.7777777777777778,
              "#fb9f3a"
             ],
             [
              0.8888888888888888,
              "#fdca26"
             ],
             [
              1,
              "#f0f921"
             ]
            ],
            "type": "contour"
           }
          ],
          "contourcarpet": [
           {
            "colorbar": {
             "outlinewidth": 0,
             "ticks": ""
            },
            "type": "contourcarpet"
           }
          ],
          "heatmap": [
           {
            "colorbar": {
             "outlinewidth": 0,
             "ticks": ""
            },
            "colorscale": [
             [
              0,
              "#0d0887"
             ],
             [
              0.1111111111111111,
              "#46039f"
             ],
             [
              0.2222222222222222,
              "#7201a8"
             ],
             [
              0.3333333333333333,
              "#9c179e"
             ],
             [
              0.4444444444444444,
              "#bd3786"
             ],
             [
              0.5555555555555556,
              "#d8576b"
             ],
             [
              0.6666666666666666,
              "#ed7953"
             ],
             [
              0.7777777777777778,
              "#fb9f3a"
             ],
             [
              0.8888888888888888,
              "#fdca26"
             ],
             [
              1,
              "#f0f921"
             ]
            ],
            "type": "heatmap"
           }
          ],
          "heatmapgl": [
           {
            "colorbar": {
             "outlinewidth": 0,
             "ticks": ""
            },
            "colorscale": [
             [
              0,
              "#0d0887"
             ],
             [
              0.1111111111111111,
              "#46039f"
             ],
             [
              0.2222222222222222,
              "#7201a8"
             ],
             [
              0.3333333333333333,
              "#9c179e"
             ],
             [
              0.4444444444444444,
              "#bd3786"
             ],
             [
              0.5555555555555556,
              "#d8576b"
             ],
             [
              0.6666666666666666,
              "#ed7953"
             ],
             [
              0.7777777777777778,
              "#fb9f3a"
             ],
             [
              0.8888888888888888,
              "#fdca26"
             ],
             [
              1,
              "#f0f921"
             ]
            ],
            "type": "heatmapgl"
           }
          ],
          "histogram": [
           {
            "marker": {
             "pattern": {
              "fillmode": "overlay",
              "size": 10,
              "solidity": 0.2
             }
            },
            "type": "histogram"
           }
          ],
          "histogram2d": [
           {
            "colorbar": {
             "outlinewidth": 0,
             "ticks": ""
            },
            "colorscale": [
             [
              0,
              "#0d0887"
             ],
             [
              0.1111111111111111,
              "#46039f"
             ],
             [
              0.2222222222222222,
              "#7201a8"
             ],
             [
              0.3333333333333333,
              "#9c179e"
             ],
             [
              0.4444444444444444,
              "#bd3786"
             ],
             [
              0.5555555555555556,
              "#d8576b"
             ],
             [
              0.6666666666666666,
              "#ed7953"
             ],
             [
              0.7777777777777778,
              "#fb9f3a"
             ],
             [
              0.8888888888888888,
              "#fdca26"
             ],
             [
              1,
              "#f0f921"
             ]
            ],
            "type": "histogram2d"
           }
          ],
          "histogram2dcontour": [
           {
            "colorbar": {
             "outlinewidth": 0,
             "ticks": ""
            },
            "colorscale": [
             [
              0,
              "#0d0887"
             ],
             [
              0.1111111111111111,
              "#46039f"
             ],
             [
              0.2222222222222222,
              "#7201a8"
             ],
             [
              0.3333333333333333,
              "#9c179e"
             ],
             [
              0.4444444444444444,
              "#bd3786"
             ],
             [
              0.5555555555555556,
              "#d8576b"
             ],
             [
              0.6666666666666666,
              "#ed7953"
             ],
             [
              0.7777777777777778,
              "#fb9f3a"
             ],
             [
              0.8888888888888888,
              "#fdca26"
             ],
             [
              1,
              "#f0f921"
             ]
            ],
            "type": "histogram2dcontour"
           }
          ],
          "mesh3d": [
           {
            "colorbar": {
             "outlinewidth": 0,
             "ticks": ""
            },
            "type": "mesh3d"
           }
          ],
          "parcoords": [
           {
            "line": {
             "colorbar": {
              "outlinewidth": 0,
              "ticks": ""
             }
            },
            "type": "parcoords"
           }
          ],
          "pie": [
           {
            "automargin": true,
            "type": "pie"
           }
          ],
          "scatter": [
           {
            "marker": {
             "colorbar": {
              "outlinewidth": 0,
              "ticks": ""
             }
            },
            "type": "scatter"
           }
          ],
          "scatter3d": [
           {
            "line": {
             "colorbar": {
              "outlinewidth": 0,
              "ticks": ""
             }
            },
            "marker": {
             "colorbar": {
              "outlinewidth": 0,
              "ticks": ""
             }
            },
            "type": "scatter3d"
           }
          ],
          "scattercarpet": [
           {
            "marker": {
             "colorbar": {
              "outlinewidth": 0,
              "ticks": ""
             }
            },
            "type": "scattercarpet"
           }
          ],
          "scattergeo": [
           {
            "marker": {
             "colorbar": {
              "outlinewidth": 0,
              "ticks": ""
             }
            },
            "type": "scattergeo"
           }
          ],
          "scattergl": [
           {
            "marker": {
             "colorbar": {
              "outlinewidth": 0,
              "ticks": ""
             }
            },
            "type": "scattergl"
           }
          ],
          "scattermapbox": [
           {
            "marker": {
             "colorbar": {
              "outlinewidth": 0,
              "ticks": ""
             }
            },
            "type": "scattermapbox"
           }
          ],
          "scatterpolar": [
           {
            "marker": {
             "colorbar": {
              "outlinewidth": 0,
              "ticks": ""
             }
            },
            "type": "scatterpolar"
           }
          ],
          "scatterpolargl": [
           {
            "marker": {
             "colorbar": {
              "outlinewidth": 0,
              "ticks": ""
             }
            },
            "type": "scatterpolargl"
           }
          ],
          "scatterternary": [
           {
            "marker": {
             "colorbar": {
              "outlinewidth": 0,
              "ticks": ""
             }
            },
            "type": "scatterternary"
           }
          ],
          "surface": [
           {
            "colorbar": {
             "outlinewidth": 0,
             "ticks": ""
            },
            "colorscale": [
             [
              0,
              "#0d0887"
             ],
             [
              0.1111111111111111,
              "#46039f"
             ],
             [
              0.2222222222222222,
              "#7201a8"
             ],
             [
              0.3333333333333333,
              "#9c179e"
             ],
             [
              0.4444444444444444,
              "#bd3786"
             ],
             [
              0.5555555555555556,
              "#d8576b"
             ],
             [
              0.6666666666666666,
              "#ed7953"
             ],
             [
              0.7777777777777778,
              "#fb9f3a"
             ],
             [
              0.8888888888888888,
              "#fdca26"
             ],
             [
              1,
              "#f0f921"
             ]
            ],
            "type": "surface"
           }
          ],
          "table": [
           {
            "cells": {
             "fill": {
              "color": "#EBF0F8"
             },
             "line": {
              "color": "white"
             }
            },
            "header": {
             "fill": {
              "color": "#C8D4E3"
             },
             "line": {
              "color": "white"
             }
            },
            "type": "table"
           }
          ]
         },
         "layout": {
          "annotationdefaults": {
           "arrowcolor": "#2a3f5f",
           "arrowhead": 0,
           "arrowwidth": 1
          },
          "autotypenumbers": "strict",
          "coloraxis": {
           "colorbar": {
            "outlinewidth": 0,
            "ticks": ""
           }
          },
          "colorscale": {
           "diverging": [
            [
             0,
             "#8e0152"
            ],
            [
             0.1,
             "#c51b7d"
            ],
            [
             0.2,
             "#de77ae"
            ],
            [
             0.3,
             "#f1b6da"
            ],
            [
             0.4,
             "#fde0ef"
            ],
            [
             0.5,
             "#f7f7f7"
            ],
            [
             0.6,
             "#e6f5d0"
            ],
            [
             0.7,
             "#b8e186"
            ],
            [
             0.8,
             "#7fbc41"
            ],
            [
             0.9,
             "#4d9221"
            ],
            [
             1,
             "#276419"
            ]
           ],
           "sequential": [
            [
             0,
             "#0d0887"
            ],
            [
             0.1111111111111111,
             "#46039f"
            ],
            [
             0.2222222222222222,
             "#7201a8"
            ],
            [
             0.3333333333333333,
             "#9c179e"
            ],
            [
             0.4444444444444444,
             "#bd3786"
            ],
            [
             0.5555555555555556,
             "#d8576b"
            ],
            [
             0.6666666666666666,
             "#ed7953"
            ],
            [
             0.7777777777777778,
             "#fb9f3a"
            ],
            [
             0.8888888888888888,
             "#fdca26"
            ],
            [
             1,
             "#f0f921"
            ]
           ],
           "sequentialminus": [
            [
             0,
             "#0d0887"
            ],
            [
             0.1111111111111111,
             "#46039f"
            ],
            [
             0.2222222222222222,
             "#7201a8"
            ],
            [
             0.3333333333333333,
             "#9c179e"
            ],
            [
             0.4444444444444444,
             "#bd3786"
            ],
            [
             0.5555555555555556,
             "#d8576b"
            ],
            [
             0.6666666666666666,
             "#ed7953"
            ],
            [
             0.7777777777777778,
             "#fb9f3a"
            ],
            [
             0.8888888888888888,
             "#fdca26"
            ],
            [
             1,
             "#f0f921"
            ]
           ]
          },
          "colorway": [
           "#636efa",
           "#EF553B",
           "#00cc96",
           "#ab63fa",
           "#FFA15A",
           "#19d3f3",
           "#FF6692",
           "#B6E880",
           "#FF97FF",
           "#FECB52"
          ],
          "font": {
           "color": "#2a3f5f"
          },
          "geo": {
           "bgcolor": "white",
           "lakecolor": "white",
           "landcolor": "#E5ECF6",
           "showlakes": true,
           "showland": true,
           "subunitcolor": "white"
          },
          "hoverlabel": {
           "align": "left"
          },
          "hovermode": "closest",
          "mapbox": {
           "style": "light"
          },
          "paper_bgcolor": "white",
          "plot_bgcolor": "#E5ECF6",
          "polar": {
           "angularaxis": {
            "gridcolor": "white",
            "linecolor": "white",
            "ticks": ""
           },
           "bgcolor": "#E5ECF6",
           "radialaxis": {
            "gridcolor": "white",
            "linecolor": "white",
            "ticks": ""
           }
          },
          "scene": {
           "xaxis": {
            "backgroundcolor": "#E5ECF6",
            "gridcolor": "white",
            "gridwidth": 2,
            "linecolor": "white",
            "showbackground": true,
            "ticks": "",
            "zerolinecolor": "white"
           },
           "yaxis": {
            "backgroundcolor": "#E5ECF6",
            "gridcolor": "white",
            "gridwidth": 2,
            "linecolor": "white",
            "showbackground": true,
            "ticks": "",
            "zerolinecolor": "white"
           },
           "zaxis": {
            "backgroundcolor": "#E5ECF6",
            "gridcolor": "white",
            "gridwidth": 2,
            "linecolor": "white",
            "showbackground": true,
            "ticks": "",
            "zerolinecolor": "white"
           }
          },
          "shapedefaults": {
           "line": {
            "color": "#2a3f5f"
           }
          },
          "ternary": {
           "aaxis": {
            "gridcolor": "white",
            "linecolor": "white",
            "ticks": ""
           },
           "baxis": {
            "gridcolor": "white",
            "linecolor": "white",
            "ticks": ""
           },
           "bgcolor": "#E5ECF6",
           "caxis": {
            "gridcolor": "white",
            "linecolor": "white",
            "ticks": ""
           }
          },
          "title": {
           "x": 0.05
          },
          "xaxis": {
           "automargin": true,
           "gridcolor": "white",
           "linecolor": "white",
           "ticks": "",
           "title": {
            "standoff": 15
           },
           "zerolinecolor": "white",
           "zerolinewidth": 2
          },
          "yaxis": {
           "automargin": true,
           "gridcolor": "white",
           "linecolor": "white",
           "ticks": "",
           "title": {
            "standoff": 15
           },
           "zerolinecolor": "white",
           "zerolinewidth": 2
          }
         }
        },
        "title": {
         "text": "Total Explained Variance: 98.50%"
        }
       }
      },
      "text/html": [
       "<div>                            <div id=\"71b21086-3f87-44a9-83db-b42e334bc1a2\" class=\"plotly-graph-div\" style=\"height:525px; width:100%;\"></div>            <script type=\"text/javascript\">                require([\"plotly\"], function(Plotly) {                    window.PLOTLYENV=window.PLOTLYENV || {};                                    if (document.getElementById(\"71b21086-3f87-44a9-83db-b42e334bc1a2\")) {                    Plotly.newPlot(                        \"71b21086-3f87-44a9-83db-b42e334bc1a2\",                        [{\"hovertemplate\":\"color=NegT4<br>PCA 1=%{x}<br>PCA 2=%{y}<br>PCA 3=%{z}<extra></extra>\",\"legendgroup\":\"NegT4\",\"marker\":{\"color\":\"#636efa\",\"symbol\":\"circle\"},\"mode\":\"markers\",\"name\":\"NegT4\",\"scene\":\"scene\",\"showlegend\":true,\"x\":[-1574.527908917973,-1574.5164638318831,-1574.5279089179746,-1574.3662288803835],\"y\":[153.50222445815535,153.52907278729066,153.50222445815572,153.04572150660013],\"z\":[-1.335003862906306,-1.3161874922907235,-1.3350038629059053,-1.2191883370225722],\"type\":\"scatter3d\"},{\"hovertemplate\":\"color=Embryo<br>PCA 1=%{x}<br>PCA 2=%{y}<br>PCA 3=%{z}<extra></extra>\",\"legendgroup\":\"Embryo\",\"marker\":{\"color\":\"#EF553B\",\"symbol\":\"circle\"},\"mode\":\"markers\",\"name\":\"Embryo\",\"scene\":\"scene\",\"showlegend\":true,\"x\":[3123.0033923115125,1372.5202707874107,469.0050638358194,-256.5561049632291,6629.677299110463,4775.565345765421],\"y\":[1433.3551177379927,1026.9509238059957,756.6913168926887,539.8778220023902,2641.5013234667967,1073.9812167603425],\"z\":[14.490470624861208,-102.45350158892089,5.347800645137114,-107.57494332064775,208.08798414970497,611.4721961850428],\"type\":\"scatter3d\"},{\"hovertemplate\":\"color=Nih3t3<br>PCA 1=%{x}<br>PCA 2=%{y}<br>PCA 3=%{z}<extra></extra>\",\"legendgroup\":\"Nih3t3\",\"marker\":{\"color\":\"#00cc96\",\"symbol\":\"circle\"},\"mode\":\"markers\",\"name\":\"Nih3t3\",\"scene\":\"scene\",\"showlegend\":true,\"x\":[2088.9396729720143,1409.239087656689,808.2334806749378,394.7133890778678,1043.03888687432,1926.7643872955803,5781.8647715966945,1578.0275490294587,176.1852794525342],\"y\":[-932.4010921772453,-2489.841426917321,-492.9041566211999,-467.51733975650376,-957.3691557460054,-1459.1473451012193,-2272.506289414321,-789.8908110685029,-450.0754146325676],\"z\":[-218.1809347139789,1670.3397471624216,-295.0516398175705,-177.19551978868068,-244.83795093636962,-191.33682927065496,-954.128200723597,61.16136505946407,-73.79445987737085],\"type\":\"scatter3d\"},{\"hovertemplate\":\"color=NegRo<br>PCA 1=%{x}<br>PCA 2=%{y}<br>PCA 3=%{z}<extra></extra>\",\"legendgroup\":\"NegRo\",\"marker\":{\"color\":\"#ab63fa\",\"symbol\":\"circle\"},\"mode\":\"markers\",\"name\":\"NegRo\",\"scene\":\"scene\",\"showlegend\":true,\"x\":[-1320.5140661026408,-1574.5279089179746,-1217.008332507449,-795.9072067909567],\"y\":[86.39745718881858,153.50222445815572,59.392163213993435,-76.0402285779333],\"z\":[-25.353815414726125,-1.3350038629059053,-35.67827645549548,-84.98975121788352],\"type\":\"scatter3d\"},{\"hovertemplate\":\"color=Negprobe<br>PCA 1=%{x}<br>PCA 2=%{y}<br>PCA 3=%{z}<extra></extra>\",\"legendgroup\":\"Negprobe\",\"marker\":{\"color\":\"#FFA15A\",\"symbol\":\"circle\"},\"mode\":\"markers\",\"name\":\"Negprobe\",\"scene\":\"scene\",\"showlegend\":true,\"x\":[-1570.2960835794709,-1573.673407679944,-1562.4313066131485,-1573.3128618515861],\"y\":[152.5762780067065,153.45961690440015,152.4282865443255,153.42780767716224],\"z\":[-1.6536975986272116,-1.0491996465301188,-0.9165272667099807,-1.953834125740551],\"type\":\"scatter3d\"},{\"hovertemplate\":\"color=Spleen<br>PCA 1=%{x}<br>PCA 2=%{y}<br>PCA 3=%{z}<extra></extra>\",\"legendgroup\":\"Spleen\",\"marker\":{\"color\":\"#19d3f3\",\"symbol\":\"circle\"},\"mode\":\"markers\",\"name\":\"Spleen\",\"scene\":\"scene\",\"showlegend\":true,\"x\":[-1359.7974231614278],\"y\":[170.86857725947843],\"z\":[-25.578104796097044],\"type\":\"scatter3d\"},{\"hovertemplate\":\"color=NegH1<br>PCA 1=%{x}<br>PCA 2=%{y}<br>PCA 3=%{z}<extra></extra>\",\"legendgroup\":\"NegH1\",\"marker\":{\"color\":\"#FF6692\",\"symbol\":\"circle\"},\"mode\":\"markers\",\"name\":\"NegH1\",\"scene\":\"scene\",\"showlegend\":true,\"x\":[-1498.804506436468,-1573.5115686892434,-1541.2258069632699,-1563.310725115215],\"y\":[148.4161313351835,153.83559830859159,150.37562619001017,152.92977147321133],\"z\":[-11.347892698621601,-1.8972245485011299,-4.209186190723821,0.09098714419362189],\"type\":\"scatter3d\"},{\"hovertemplate\":\"color=Negall<br>PCA 1=%{x}<br>PCA 2=%{y}<br>PCA 3=%{z}<extra></extra>\",\"legendgroup\":\"Negall\",\"marker\":{\"color\":\"#B6E880\",\"symbol\":\"circle\"},\"mode\":\"markers\",\"name\":\"Negall\",\"scene\":\"scene\",\"showlegend\":true,\"x\":[-1574.5279089179746,-1574.378329766551,-1574.5279089179746,-1574.5279089179746],\"y\":[153.50222445815572,153.64008420189998,153.50222445815572,153.5022244581556],\"z\":[-1.3350038629059053,-1.2636619666216498,-1.3350038629059053,-1.335003862905947],\"type\":\"scatter3d\"}],                        {\"template\":{\"data\":{\"bar\":[{\"error_x\":{\"color\":\"#2a3f5f\"},\"error_y\":{\"color\":\"#2a3f5f\"},\"marker\":{\"line\":{\"color\":\"#E5ECF6\",\"width\":0.5},\"pattern\":{\"fillmode\":\"overlay\",\"size\":10,\"solidity\":0.2}},\"type\":\"bar\"}],\"barpolar\":[{\"marker\":{\"line\":{\"color\":\"#E5ECF6\",\"width\":0.5},\"pattern\":{\"fillmode\":\"overlay\",\"size\":10,\"solidity\":0.2}},\"type\":\"barpolar\"}],\"carpet\":[{\"aaxis\":{\"endlinecolor\":\"#2a3f5f\",\"gridcolor\":\"white\",\"linecolor\":\"white\",\"minorgridcolor\":\"white\",\"startlinecolor\":\"#2a3f5f\"},\"baxis\":{\"endlinecolor\":\"#2a3f5f\",\"gridcolor\":\"white\",\"linecolor\":\"white\",\"minorgridcolor\":\"white\",\"startlinecolor\":\"#2a3f5f\"},\"type\":\"carpet\"}],\"choropleth\":[{\"colorbar\":{\"outlinewidth\":0,\"ticks\":\"\"},\"type\":\"choropleth\"}],\"contour\":[{\"colorbar\":{\"outlinewidth\":0,\"ticks\":\"\"},\"colorscale\":[[0.0,\"#0d0887\"],[0.1111111111111111,\"#46039f\"],[0.2222222222222222,\"#7201a8\"],[0.3333333333333333,\"#9c179e\"],[0.4444444444444444,\"#bd3786\"],[0.5555555555555556,\"#d8576b\"],[0.6666666666666666,\"#ed7953\"],[0.7777777777777778,\"#fb9f3a\"],[0.8888888888888888,\"#fdca26\"],[1.0,\"#f0f921\"]],\"type\":\"contour\"}],\"contourcarpet\":[{\"colorbar\":{\"outlinewidth\":0,\"ticks\":\"\"},\"type\":\"contourcarpet\"}],\"heatmap\":[{\"colorbar\":{\"outlinewidth\":0,\"ticks\":\"\"},\"colorscale\":[[0.0,\"#0d0887\"],[0.1111111111111111,\"#46039f\"],[0.2222222222222222,\"#7201a8\"],[0.3333333333333333,\"#9c179e\"],[0.4444444444444444,\"#bd3786\"],[0.5555555555555556,\"#d8576b\"],[0.6666666666666666,\"#ed7953\"],[0.7777777777777778,\"#fb9f3a\"],[0.8888888888888888,\"#fdca26\"],[1.0,\"#f0f921\"]],\"type\":\"heatmap\"}],\"heatmapgl\":[{\"colorbar\":{\"outlinewidth\":0,\"ticks\":\"\"},\"colorscale\":[[0.0,\"#0d0887\"],[0.1111111111111111,\"#46039f\"],[0.2222222222222222,\"#7201a8\"],[0.3333333333333333,\"#9c179e\"],[0.4444444444444444,\"#bd3786\"],[0.5555555555555556,\"#d8576b\"],[0.6666666666666666,\"#ed7953\"],[0.7777777777777778,\"#fb9f3a\"],[0.8888888888888888,\"#fdca26\"],[1.0,\"#f0f921\"]],\"type\":\"heatmapgl\"}],\"histogram\":[{\"marker\":{\"pattern\":{\"fillmode\":\"overlay\",\"size\":10,\"solidity\":0.2}},\"type\":\"histogram\"}],\"histogram2d\":[{\"colorbar\":{\"outlinewidth\":0,\"ticks\":\"\"},\"colorscale\":[[0.0,\"#0d0887\"],[0.1111111111111111,\"#46039f\"],[0.2222222222222222,\"#7201a8\"],[0.3333333333333333,\"#9c179e\"],[0.4444444444444444,\"#bd3786\"],[0.5555555555555556,\"#d8576b\"],[0.6666666666666666,\"#ed7953\"],[0.7777777777777778,\"#fb9f3a\"],[0.8888888888888888,\"#fdca26\"],[1.0,\"#f0f921\"]],\"type\":\"histogram2d\"}],\"histogram2dcontour\":[{\"colorbar\":{\"outlinewidth\":0,\"ticks\":\"\"},\"colorscale\":[[0.0,\"#0d0887\"],[0.1111111111111111,\"#46039f\"],[0.2222222222222222,\"#7201a8\"],[0.3333333333333333,\"#9c179e\"],[0.4444444444444444,\"#bd3786\"],[0.5555555555555556,\"#d8576b\"],[0.6666666666666666,\"#ed7953\"],[0.7777777777777778,\"#fb9f3a\"],[0.8888888888888888,\"#fdca26\"],[1.0,\"#f0f921\"]],\"type\":\"histogram2dcontour\"}],\"mesh3d\":[{\"colorbar\":{\"outlinewidth\":0,\"ticks\":\"\"},\"type\":\"mesh3d\"}],\"parcoords\":[{\"line\":{\"colorbar\":{\"outlinewidth\":0,\"ticks\":\"\"}},\"type\":\"parcoords\"}],\"pie\":[{\"automargin\":true,\"type\":\"pie\"}],\"scatter\":[{\"marker\":{\"colorbar\":{\"outlinewidth\":0,\"ticks\":\"\"}},\"type\":\"scatter\"}],\"scatter3d\":[{\"line\":{\"colorbar\":{\"outlinewidth\":0,\"ticks\":\"\"}},\"marker\":{\"colorbar\":{\"outlinewidth\":0,\"ticks\":\"\"}},\"type\":\"scatter3d\"}],\"scattercarpet\":[{\"marker\":{\"colorbar\":{\"outlinewidth\":0,\"ticks\":\"\"}},\"type\":\"scattercarpet\"}],\"scattergeo\":[{\"marker\":{\"colorbar\":{\"outlinewidth\":0,\"ticks\":\"\"}},\"type\":\"scattergeo\"}],\"scattergl\":[{\"marker\":{\"colorbar\":{\"outlinewidth\":0,\"ticks\":\"\"}},\"type\":\"scattergl\"}],\"scattermapbox\":[{\"marker\":{\"colorbar\":{\"outlinewidth\":0,\"ticks\":\"\"}},\"type\":\"scattermapbox\"}],\"scatterpolar\":[{\"marker\":{\"colorbar\":{\"outlinewidth\":0,\"ticks\":\"\"}},\"type\":\"scatterpolar\"}],\"scatterpolargl\":[{\"marker\":{\"colorbar\":{\"outlinewidth\":0,\"ticks\":\"\"}},\"type\":\"scatterpolargl\"}],\"scatterternary\":[{\"marker\":{\"colorbar\":{\"outlinewidth\":0,\"ticks\":\"\"}},\"type\":\"scatterternary\"}],\"surface\":[{\"colorbar\":{\"outlinewidth\":0,\"ticks\":\"\"},\"colorscale\":[[0.0,\"#0d0887\"],[0.1111111111111111,\"#46039f\"],[0.2222222222222222,\"#7201a8\"],[0.3333333333333333,\"#9c179e\"],[0.4444444444444444,\"#bd3786\"],[0.5555555555555556,\"#d8576b\"],[0.6666666666666666,\"#ed7953\"],[0.7777777777777778,\"#fb9f3a\"],[0.8888888888888888,\"#fdca26\"],[1.0,\"#f0f921\"]],\"type\":\"surface\"}],\"table\":[{\"cells\":{\"fill\":{\"color\":\"#EBF0F8\"},\"line\":{\"color\":\"white\"}},\"header\":{\"fill\":{\"color\":\"#C8D4E3\"},\"line\":{\"color\":\"white\"}},\"type\":\"table\"}]},\"layout\":{\"annotationdefaults\":{\"arrowcolor\":\"#2a3f5f\",\"arrowhead\":0,\"arrowwidth\":1},\"autotypenumbers\":\"strict\",\"coloraxis\":{\"colorbar\":{\"outlinewidth\":0,\"ticks\":\"\"}},\"colorscale\":{\"diverging\":[[0,\"#8e0152\"],[0.1,\"#c51b7d\"],[0.2,\"#de77ae\"],[0.3,\"#f1b6da\"],[0.4,\"#fde0ef\"],[0.5,\"#f7f7f7\"],[0.6,\"#e6f5d0\"],[0.7,\"#b8e186\"],[0.8,\"#7fbc41\"],[0.9,\"#4d9221\"],[1,\"#276419\"]],\"sequential\":[[0.0,\"#0d0887\"],[0.1111111111111111,\"#46039f\"],[0.2222222222222222,\"#7201a8\"],[0.3333333333333333,\"#9c179e\"],[0.4444444444444444,\"#bd3786\"],[0.5555555555555556,\"#d8576b\"],[0.6666666666666666,\"#ed7953\"],[0.7777777777777778,\"#fb9f3a\"],[0.8888888888888888,\"#fdca26\"],[1.0,\"#f0f921\"]],\"sequentialminus\":[[0.0,\"#0d0887\"],[0.1111111111111111,\"#46039f\"],[0.2222222222222222,\"#7201a8\"],[0.3333333333333333,\"#9c179e\"],[0.4444444444444444,\"#bd3786\"],[0.5555555555555556,\"#d8576b\"],[0.6666666666666666,\"#ed7953\"],[0.7777777777777778,\"#fb9f3a\"],[0.8888888888888888,\"#fdca26\"],[1.0,\"#f0f921\"]]},\"colorway\":[\"#636efa\",\"#EF553B\",\"#00cc96\",\"#ab63fa\",\"#FFA15A\",\"#19d3f3\",\"#FF6692\",\"#B6E880\",\"#FF97FF\",\"#FECB52\"],\"font\":{\"color\":\"#2a3f5f\"},\"geo\":{\"bgcolor\":\"white\",\"lakecolor\":\"white\",\"landcolor\":\"#E5ECF6\",\"showlakes\":true,\"showland\":true,\"subunitcolor\":\"white\"},\"hoverlabel\":{\"align\":\"left\"},\"hovermode\":\"closest\",\"mapbox\":{\"style\":\"light\"},\"paper_bgcolor\":\"white\",\"plot_bgcolor\":\"#E5ECF6\",\"polar\":{\"angularaxis\":{\"gridcolor\":\"white\",\"linecolor\":\"white\",\"ticks\":\"\"},\"bgcolor\":\"#E5ECF6\",\"radialaxis\":{\"gridcolor\":\"white\",\"linecolor\":\"white\",\"ticks\":\"\"}},\"scene\":{\"xaxis\":{\"backgroundcolor\":\"#E5ECF6\",\"gridcolor\":\"white\",\"gridwidth\":2,\"linecolor\":\"white\",\"showbackground\":true,\"ticks\":\"\",\"zerolinecolor\":\"white\"},\"yaxis\":{\"backgroundcolor\":\"#E5ECF6\",\"gridcolor\":\"white\",\"gridwidth\":2,\"linecolor\":\"white\",\"showbackground\":true,\"ticks\":\"\",\"zerolinecolor\":\"white\"},\"zaxis\":{\"backgroundcolor\":\"#E5ECF6\",\"gridcolor\":\"white\",\"gridwidth\":2,\"linecolor\":\"white\",\"showbackground\":true,\"ticks\":\"\",\"zerolinecolor\":\"white\"}},\"shapedefaults\":{\"line\":{\"color\":\"#2a3f5f\"}},\"ternary\":{\"aaxis\":{\"gridcolor\":\"white\",\"linecolor\":\"white\",\"ticks\":\"\"},\"baxis\":{\"gridcolor\":\"white\",\"linecolor\":\"white\",\"ticks\":\"\"},\"bgcolor\":\"#E5ECF6\",\"caxis\":{\"gridcolor\":\"white\",\"linecolor\":\"white\",\"ticks\":\"\"}},\"title\":{\"x\":0.05},\"xaxis\":{\"automargin\":true,\"gridcolor\":\"white\",\"linecolor\":\"white\",\"ticks\":\"\",\"title\":{\"standoff\":15},\"zerolinecolor\":\"white\",\"zerolinewidth\":2},\"yaxis\":{\"automargin\":true,\"gridcolor\":\"white\",\"linecolor\":\"white\",\"ticks\":\"\",\"title\":{\"standoff\":15},\"zerolinecolor\":\"white\",\"zerolinewidth\":2}}},\"scene\":{\"domain\":{\"x\":[0.0,1.0],\"y\":[0.0,1.0]},\"xaxis\":{\"title\":{\"text\":\"PCA 1\"}},\"yaxis\":{\"title\":{\"text\":\"PCA 2\"}},\"zaxis\":{\"title\":{\"text\":\"PCA 3\"}}},\"legend\":{\"title\":{\"text\":\"color\"},\"tracegroupgap\":0},\"title\":{\"text\":\"Total Explained Variance: 98.50%\"}},                        {\"responsive\": true}                    ).then(function(){\n",
       "                            \n",
       "var gd = document.getElementById('71b21086-3f87-44a9-83db-b42e334bc1a2');\n",
       "var x = new MutationObserver(function (mutations, observer) {{\n",
       "        var display = window.getComputedStyle(gd).display;\n",
       "        if (!display || display === 'none') {{\n",
       "            console.log([gd, 'removed!']);\n",
       "            Plotly.purge(gd);\n",
       "            observer.disconnect();\n",
       "        }}\n",
       "}});\n",
       "\n",
       "// Listen for the removal of the full notebook cells\n",
       "var notebookContainer = gd.closest('#notebook-container');\n",
       "if (notebookContainer) {{\n",
       "    x.observe(notebookContainer, {childList: true});\n",
       "}}\n",
       "\n",
       "// Listen for the clearing of the current output cell\n",
       "var outputEl = gd.closest('.output');\n",
       "if (outputEl) {{\n",
       "    x.observe(outputEl, {childList: true});\n",
       "}}\n",
       "\n",
       "                        })                };                });            </script>        </div>"
      ]
     },
     "metadata": {},
     "output_type": "display_data"
    }
   ],
   "source": [
    "#generates PCA plots of data found in the reads of the HyPRseq data\n",
    "df_merged_transposed = df_merged.T\n",
    "transposedNames = []\n",
    "for i in finalColNames:\n",
    "    trueName = i.split(\"-\")\n",
    "    transposedNames.append(trueName[0])\n",
    "\n",
    "    \n",
    "df_merged_transposed['Samples'] = transposedNames\n",
    "\n",
    "\n",
    "X = df_merged_transposed[geneNamesFinal]\n",
    "pca = PCA(n_components=2)\n",
    "components = pca.fit_transform(X)\n",
    "fig = px.scatter(components, x=0, y=1, color = df_merged_transposed['Samples']) \n",
    "fig.update_layout(xaxis_title=\"PCA 1\",yaxis_title=\"PCA 2\",title=\"Standard PCA analysis of HyPRSeq Data\")\n",
    "fig.show()\n",
    "logFig = px.scatter(components, x=0, y=1, color = df_merged_transposed['Samples'], log_y = True) \n",
    "logFig.update_layout(xaxis_title=\"PCA 1\",yaxis_title=\"PCA 2\",title=\"Logarithmic PCA analysis of HyPRSeq Data\")\n",
    "logFig.show()\n",
    "\n",
    "pca = PCA(n_components=3)\n",
    "components = pca.fit_transform(X)\n",
    "\n",
    "total_var = pca.explained_variance_ratio_.sum() * 100\n",
    "\n",
    "threeDfig = px.scatter_3d(\n",
    "    components, x=0, y=1, z=2, color=df_merged_transposed['Samples'],\n",
    "    title=f'Total Explained Variance: {total_var:.2f}%',\n",
    "    labels={'0': 'PCA 1', '1': 'PCA 2', '2': 'PCA 3'}\n",
    ")\n",
    "threeDfig.show()"
   ]
  },
  {
   "cell_type": "code",
   "execution_count": null,
   "id": "270a3983",
   "metadata": {},
   "outputs": [],
   "source": [
    "#used to generate comparative graph of RNAseq data from  with hyprseq data \n"
   ]
  }
 ],
 "metadata": {
  "kernelspec": {
   "display_name": "Python 3 (ipykernel)",
   "language": "python",
   "name": "python3"
  },
  "language_info": {
   "codemirror_mode": {
    "name": "ipython",
    "version": 3
   },
   "file_extension": ".py",
   "mimetype": "text/x-python",
   "name": "python",
   "nbconvert_exporter": "python",
   "pygments_lexer": "ipython3",
   "version": "3.9.5"
  }
 },
 "nbformat": 4,
 "nbformat_minor": 5
}
